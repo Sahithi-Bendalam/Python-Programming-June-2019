{
 "cells": [
  {
   "cell_type": "code",
   "execution_count": 25,
   "metadata": {},
   "outputs": [],
   "source": [
    "#Function to generate marks data for n \n",
    "from random import randint\n",
    "def generateMarks(n,lb,ub):\n",
    "    with open(\"Datafiles/marks.txt\",\"w\") as f:\n",
    "        for i in range(0,n):\n",
    "            r=randint(lb,ub)\n",
    "            f.write(str(r)+'\\n')\n",
    "    return\n",
    "generateMarks(100,0,100)"
   ]
  },
  {
   "cell_type": "code",
   "execution_count": 26,
   "metadata": {},
   "outputs": [
    {
     "data": {
      "text/plain": [
       "43.61"
      ]
     },
     "execution_count": 26,
     "metadata": {},
     "output_type": "execute_result"
    }
   ],
   "source": [
    "def avgMarks(n):\n",
    "    with open(\"Datafiles/marks.txt\",'r') as f:\n",
    "        fh=f.read()\n",
    "        sum=0\n",
    "        for i in fh.split():\n",
    "            sum=sum+int(i)\n",
    "        return sum/n\n",
    "n=\"Datafiles/marks.txt\"\n",
    "avgMarks(100)"
   ]
  },
  {
   "cell_type": "code",
   "execution_count": 42,
   "metadata": {},
   "outputs": [
    {
     "name": "stdout",
     "output_type": "stream",
     "text": [
      "% of students passed 61.0\n",
      "% of students failed 39.0\n"
     ]
    }
   ],
   "source": [
    "def PassFail():\n",
    "    with open(\"Datafiles/marks.txt\",\"r\") as f:\n",
    "        fh=f.read()\n",
    "        c1=0\n",
    "        c2=0\n",
    "        n=100\n",
    "        for i in fh.split():\n",
    "            if int(i)>=35:\n",
    "                c1+=1\n",
    "            else:\n",
    "                c2+=1\n",
    "        print(\"% of students passed\",(c1/n)*100)\n",
    "        print(\"% of students failed\",(c2/n)*100)\n",
    "    return\n",
    "PassFail()\n",
    "\n",
    "\n"
   ]
  },
  {
   "cell_type": "code",
   "execution_count": 43,
   "metadata": {},
   "outputs": [
    {
     "name": "stdout",
     "output_type": "stream",
     "text": [
      "% of distinction 18.0\n"
     ]
    }
   ],
   "source": [
    "def distinction():\n",
    "    with open(\"Datafiles/marks.txt\",'r') as f:\n",
    "        fh=f.read()\n",
    "        c=0\n",
    "        n=100\n",
    "        for i in fh.split():\n",
    "            if int(i) >= 75:\n",
    "                c=c+1\n",
    "        print(\"% of distinction\",(c/n)*100)\n",
    "    return\n",
    "distinction()"
   ]
  },
  {
   "cell_type": "code",
   "execution_count": 49,
   "metadata": {},
   "outputs": [
    {
     "name": "stdout",
     "output_type": "stream",
     "text": [
      "1st class : 4 members\n"
     ]
    }
   ],
   "source": [
    "def higFrequency():\n",
    "    with open(\"Datafiles/marks.txt\",'r') as f:\n",
    "        fh=f.read()\n",
    "        c1=0\n",
    "        n=100\n",
    "        for i in fh.split():\n",
    "            if int(i)>=90:\n",
    "                c1+=1\n",
    "        print(\"1st class :\",c1,\"members\")\n",
    "    return\n",
    "higFrequency()"
   ]
  },
  {
   "cell_type": "code",
   "execution_count": null,
   "metadata": {},
   "outputs": [],
   "source": [
    "def lowFrequency():\n",
    "    with open(\"Datafiles/marks.txt\",'r') as f:\n",
    "        fh=f.read()\n",
    "        "
   ]
  }
 ],
 "metadata": {
  "kernelspec": {
   "display_name": "Python 3",
   "language": "python",
   "name": "python3"
  },
  "language_info": {
   "codemirror_mode": {
    "name": "ipython",
    "version": 3
   },
   "file_extension": ".py",
   "mimetype": "text/x-python",
   "name": "python",
   "nbconvert_exporter": "python",
   "pygments_lexer": "ipython3",
   "version": "3.7.3"
  }
 },
 "nbformat": 4,
 "nbformat_minor": 2
}
