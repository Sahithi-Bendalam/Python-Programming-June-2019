{
 "cells": [
  {
   "cell_type": "code",
   "execution_count": null,
   "metadata": {},
   "outputs": [],
   "source": []
  },
  {
   "cell_type": "code",
   "execution_count": 18,
   "metadata": {},
   "outputs": [
    {
     "name": "stdout",
     "output_type": "stream",
     "text": [
      "True\n",
      "name2 added to contacts\n"
     ]
    }
   ],
   "source": [
    "# Function to add contact to contacts text file\n",
    "from Packages import validators as v\n",
    "def addContact(name, phone, email):\n",
    "    # Store data as name,phone,email in the contacts file\n",
    "    filename = 'DataFiles/contacts.txt'\n",
    "    if not checkContactExits(name):\n",
    "        if v.phoneNumberValidator(phone) and v.emailValidator(email):\n",
    "            with open(filename, \"a\") as f:\n",
    "                line= name + \",\" + phone + \",\" + email + \"\\n\"\n",
    "                f.write(line)\n",
    "            print(name,\"added to contacts\")\n",
    "        else:\n",
    "            print(\"Invalid phone number and mail\")\n",
    "            return\n",
    "    else:\n",
    "        print(name, 'already exits')\n",
    "    return\n",
    "#addContact(\"name1\", \"9876543210\", \"name1_123@gmail.com\")   \n",
    "\n",
    "\n",
    "# Function to check if contact already exits\n",
    "import re\n",
    "def checkContactExits(name):\n",
    "    filename = 'DataFiles/contacts.txt'\n",
    "    with open(filename, 'r') as f:\n",
    "        filedata = f.read()\n",
    "        pattern = name+','\n",
    "    return re.search(name, filedata)\n",
    "if checkContactExits(\"name1\"):\n",
    "    print(True)\n",
    "else:\n",
    "    print(False)\n",
    "addContact('name2' , \"8909761234\" , \"wdfesdfg@hmol.com\")"
   ]
  },
  {
   "cell_type": "code",
   "execution_count": 23,
   "metadata": {},
   "outputs": [
    {
     "data": {
      "text/plain": [
       "'name1,9876543210,name1_123@gmail.com\\nname2,8909761234,wdfesdfg@hmol.com\\n'"
      ]
     },
     "execution_count": 23,
     "metadata": {},
     "output_type": "execute_result"
    }
   ],
   "source": [
    "filename='DataFiles/contacts.txt'\n",
    "def csvToList(filename):\n",
    "    li=[]\n",
    "    with open(filename, 'r') as f:\n",
    "        for line in f:\n",
    "            li.append(line.split(','))\n",
    "    return li\n",
    "#csvToList(filename)\n",
    "\n",
    "def listToFile(li):\n",
    "    s = ''\n",
    "    for i in li:\n",
    "        s+=','.join(i)\n",
    "    return s\n",
    "li = csvToList(filename)\n",
    "listToFile(li)\n",
    "    \n",
    "\n",
    "            "
   ]
  },
  {
   "cell_type": "code",
   "execution_count": null,
   "metadata": {},
   "outputs": [],
   "source": []
  },
  {
   "cell_type": "code",
   "execution_count": null,
   "metadata": {},
   "outputs": [],
   "source": [
    "def searchContacts(name):\n",
    "    filename = \"Datafiles/contacts.txt\"\n",
    "    with open (filname,'r') as f:\n",
    "        filedata=f.read()\n",
    "        \n",
    "    \n",
    "    \n",
    "    "
   ]
  },
  {
   "cell_type": "code",
   "execution_count": 12,
   "metadata": {},
   "outputs": [],
   "source": [
    "fh = open('book.txt','w')\n",
    "data=\"hello all\"\n",
    "fh.write(data)\n",
    "fh.close()"
   ]
  },
  {
   "cell_type": "code",
   "execution_count": null,
   "metadata": {},
   "outputs": [],
   "source": []
  },
  {
   "cell_type": "code",
   "execution_count": 13,
   "metadata": {},
   "outputs": [
    {
     "name": "stdout",
     "output_type": "stream",
     "text": [
      "hello all\n"
     ]
    }
   ],
   "source": [
    "fh=open('book.txt','r')\n",
    "print(fh.read())\n",
    "fh.close()"
   ]
  },
  {
   "cell_type": "code",
   "execution_count": null,
   "metadata": {},
   "outputs": [],
   "source": []
  },
  {
   "cell_type": "code",
   "execution_count": null,
   "metadata": {},
   "outputs": [],
   "source": []
  }
 ],
 "metadata": {
  "kernelspec": {
   "display_name": "Python 3",
   "language": "python",
   "name": "python3"
  },
  "language_info": {
   "codemirror_mode": {
    "name": "ipython",
    "version": 3
   },
   "file_extension": ".py",
   "mimetype": "text/x-python",
   "name": "python",
   "nbconvert_exporter": "python",
   "pygments_lexer": "ipython3",
   "version": "3.7.3"
  }
 },
 "nbformat": 4,
 "nbformat_minor": 2
}
