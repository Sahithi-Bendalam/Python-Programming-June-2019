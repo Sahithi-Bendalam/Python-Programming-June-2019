{
 "cells": [
  {
   "cell_type": "markdown",
   "metadata": {},
   "source": [
    "### Practice"
   ]
  },
  {
   "cell_type": "markdown",
   "metadata": {},
   "source": [
    "### Problem Set:\n",
    "\n",
    "- Function to print all numbers divisible by 6 and not a factor of 100 in a given range(lb, ub) inclusive\n",
    "- Function to find the average of cubes of all even numbers in a given range(lb, ub) inclusive\n",
    "- Function to generate the list of factors for a given number\n",
    "- Function to calculate the factorial of a given number\n",
    "- Function to check if a given number is Prime\n",
    "- Function to calculate the average first N Prime numbers\n",
    "- Function to generate all Perfect numbers in a given range\n",
    "- Advanced Problem Set( Optional )\n",
    "- Function to calculate the average of all factorials in a given range\n",
    "- Function to generate N odd Armstrong numbers\n",
    "- Function to generate Multiplication table for a number in a given range\n",
    "10 in the range(100, 102) inclusive\n",
    "10 x 100 = 1000\n",
    "10 x 101 = 1010\n",
    "10 x 102 = 1020\n",
    "##### Problems That needs a Try\n",
    "\n",
    "- You are given a string and your task is to swap cases. In other words, convert all lowercase letters to uppercase letters and - vice versa. (The String may contain special characters).\n",
    "- Given an integer, ’n’ , perform the following conditional actions:\n",
    "  - If ‘n’  is odd, print Weird\n",
    "  - If  ‘n’ is even and in the inclusive range of 2 to 5, print Not Weird\n",
    "  - If  ‘n’ is even and in the inclusive range of 6 to 20 , print Weird\n",
    "  - If  ‘n’ is even and greater than 20, print Not Weird\n",
    "- Given the participants ‘n’ score sheet for your University Sports Day, you are required to find the runner-up score. You are - given scores. Store them in a list and find the score of the runner-up. (there can be multiple winners - if their scores -  - - match). \n"
   ]
  },
  {
   "cell_type": "code",
   "execution_count": 12,
   "metadata": {},
   "outputs": [
    {
     "name": "stdout",
     "output_type": "stream",
     "text": [
      "enter lb100\n",
      "enter ub120\n",
      "102\n",
      "108\n",
      "114\n",
      "120\n"
     ]
    }
   ],
   "source": [
    "# Function to print all numbers divisible by 6 and not a factor of 100 in a given range(lb, ub) inclusive\n",
    "def divisible(lb,ub):\n",
    "    for i in range(lb,ub+1):\n",
    "        if i%6==0 and 100/i!=0:\n",
    "            print(i)\n",
    "    return\n",
    "a=int(input(\"enter lb\"))\n",
    "b=int(input(\"enter ub\"))\n",
    "divisible(a,b)"
   ]
  },
  {
   "cell_type": "code",
   "execution_count": 1,
   "metadata": {},
   "outputs": [
    {
     "name": "stdout",
     "output_type": "stream",
     "text": [
      "enter lb1\n",
      "enter ub10\n",
      "360.0\n"
     ]
    }
   ],
   "source": [
    "# Function to find the average of cubes of all even numbers in a given range(lb, ub) inclusive\n",
    "def average(lb,ub):\n",
    "    c=0\n",
    "    sum=0\n",
    "    for i in range(lb,ub+1):\n",
    "        if i%2 == 0:\n",
    "            sum=sum+(i**3)\n",
    "            c+=1\n",
    "    print(sum/c)\n",
    "    return\n",
    "a=int(input(\"enter lb\"))\n",
    "b=int(input(\"enter ub\"))\n",
    "average(a,b)"
   ]
  },
  {
   "cell_type": "code",
   "execution_count": 2,
   "metadata": {},
   "outputs": [
    {
     "name": "stdout",
     "output_type": "stream",
     "text": [
      "enter a number10\n",
      "1 2 5 "
     ]
    }
   ],
   "source": [
    "# Function to generate the list of factors for a given number\n",
    "def factors(n):\n",
    "    for i in range(1,n):\n",
    "        if n%i==0:\n",
    "            print(i ,end=' ')\n",
    "    return\n",
    "n=int(input(\"enter a number\"))\n",
    "factors(n)"
   ]
  },
  {
   "cell_type": "code",
   "execution_count": 9,
   "metadata": {},
   "outputs": [
    {
     "name": "stdout",
     "output_type": "stream",
     "text": [
      "Enter a number4\n",
      "24\n"
     ]
    }
   ],
   "source": [
    "# Function to calculate the factorial of a given number\n",
    "def factorial(n):\n",
    "    for i in range(1,n):\n",
    "        n=n*i\n",
    "    print(n)\n",
    "    return\n",
    "n=int(input(\"Enter a number\"))\n",
    "factorial(n)"
   ]
  },
  {
   "cell_type": "code",
   "execution_count": 61,
   "metadata": {},
   "outputs": [
    {
     "name": "stdout",
     "output_type": "stream",
     "text": [
      "enter a number7\n"
     ]
    },
    {
     "data": {
      "text/plain": [
       "1"
      ]
     },
     "execution_count": 61,
     "metadata": {},
     "output_type": "execute_result"
    }
   ],
   "source": [
    "# Function to check if a given number is Prime\n",
    "def prime(n):\n",
    "    c=0\n",
    "    for i in range(1,n):\n",
    "        if n%i==0:\n",
    "            c=c+1\n",
    "    if c<2:\n",
    "        return 1\n",
    "    else:\n",
    "        return -1\n",
    "    return\n",
    "n=int(input(\"enter a number\"))\n",
    "prime(n)"
   ]
  },
  {
   "cell_type": "code",
   "execution_count": 63,
   "metadata": {},
   "outputs": [
    {
     "name": "stdout",
     "output_type": "stream",
     "text": [
      "Enter a number10\n",
      "2\n",
      "3\n",
      "5\n",
      "7\n",
      "4.25\n"
     ]
    }
   ],
   "source": [
    " # Function to calculate the average first N Prime numbers\n",
    "def averagePrime(p):\n",
    "    c=0\n",
    "    s=0\n",
    "    for i in range(2,p):\n",
    "        if prime(i)==1:\n",
    "            print(i)\n",
    "            s+=i\n",
    "            c+=1\n",
    "    print(s/c)\n",
    "    return\n",
    "n=int(input(\"Enter a number\"))\n",
    "averagePrime(n)\n",
    "            "
   ]
  },
  {
   "cell_type": "code",
   "execution_count": 88,
   "metadata": {},
   "outputs": [
    {
     "name": "stdout",
     "output_type": "stream",
     "text": [
      "enter lb1\n",
      "enter ub100\n",
      "6\n",
      "28\n"
     ]
    }
   ],
   "source": [
    "# Function to generate all Perfect numbers in a given range\n",
    "def perfect(n):\n",
    "    s=0\n",
    "    for i in range(1,n):\n",
    "        if n%i==0:\n",
    "            s+=i\n",
    "    if s==n:\n",
    "        return 1\n",
    "    return\n",
    "#perfect(10)\n",
    "def perfectrange(lb,ub):\n",
    "    s=0\n",
    "    for i in range(lb,ub+1):\n",
    "        if perfect(i)==1:\n",
    "            print(i)\n",
    "    return\n",
    "a=int(input(\"enter lb\"))\n",
    "b=int(input(\"enter ub\"))\n",
    "perfectrange(a,b)\n",
    "            "
   ]
  },
  {
   "cell_type": "code",
   "execution_count": 62,
   "metadata": {},
   "outputs": [
    {
     "name": "stdout",
     "output_type": "stream",
     "text": [
      "enter lb1\n",
      "enter ub10\n",
      "403791.3\n"
     ]
    }
   ],
   "source": [
    "# Function to calculate the average of all factorials in a given range\n",
    "def Factorial(n):\n",
    "    for i in range(1,n):\n",
    "        n=n*i\n",
    "    return n\n",
    "def factAverage(lb,ub):\n",
    "    s=0\n",
    "    c=0\n",
    "    for i in range(lb,ub+1):\n",
    "        #print(\"Factors of\",i,\":\" ,Factorial(i))\n",
    "        s+=Factorial(i)\n",
    "        c+=1\n",
    "    #print(c)\n",
    "    print(s/c)\n",
    "    return\n",
    "a=int(input(\"enter lb\"))\n",
    "b=int(input(\"enter ub\"))\n",
    "factAverage(a,b)"
   ]
  },
  {
   "cell_type": "code",
   "execution_count": 200,
   "metadata": {},
   "outputs": [
    {
     "name": "stdout",
     "output_type": "stream",
     "text": [
      "enter a number23456\n",
      "not an armstrong\n"
     ]
    }
   ],
   "source": [
    "# Function to generate N odd Armstrong numbers\n",
    "def armstrong(n):\n",
    "    n2=n\n",
    "    s=str(n)\n",
    "    l=[]\n",
    "    for i in range(len(s)):\n",
    "        l.append((n%10)**len(s))\n",
    "        n=n//10\n",
    "    if sum(l)==n2:\n",
    "\n",
    "        if n2%2!=0:\n",
    "            print(n2,\"arm\")\n",
    "    else:\n",
    "        print(\"not an armstrong\")\n",
    "   \n",
    "    return \n",
    "n=int(input(\"enter a number\"))\n",
    "armstrong(n)\n",
    "            "
   ]
  },
  {
   "cell_type": "code",
   "execution_count": 205,
   "metadata": {},
   "outputs": [
    {
     "name": "stdout",
     "output_type": "stream",
     "text": [
      "10 *  100 = 1000\n",
      "10 *  101 = 1010\n",
      "10 *  102 = 1020\n"
     ]
    }
   ],
   "source": [
    "# Function to generate Multiplication table for a number in a given range\n",
    "#10 in the range(100, 102) inclusive\n",
    "#10 x 100 = 1000\n",
    "#10 x 101 = 1010\n",
    "#10 x 102 = 1020\n",
    "def multi(lb,ub):\n",
    "    for i in range(lb,ub+1):\n",
    "        print(\"10 * \",i,\"=\",10*i)\n",
    "    return\n",
    "multi(100,102)"
   ]
  },
  {
   "cell_type": "code",
   "execution_count": 216,
   "metadata": {},
   "outputs": [
    {
     "data": {
      "text/plain": [
       "'SAhithisaHI'"
      ]
     },
     "execution_count": 216,
     "metadata": {},
     "output_type": "execute_result"
    }
   ],
   "source": [
    "# You are given a string and your task is to swap cases. In other words, convert all lowercase letters \n",
    "# to uppercase letters and vice versa. (The String may contain special characters).\n",
    "s='saHITHISAhi'\n",
    "s.swapcase()"
   ]
  },
  {
   "cell_type": "code",
   "execution_count": 9,
   "metadata": {},
   "outputs": [
    {
     "name": "stdout",
     "output_type": "stream",
     "text": [
      "enter a number12\n",
      "Weird\n"
     ]
    }
   ],
   "source": [
    "#Given an integer, ’n’ , perform the following conditional actions:\n",
    "#If ‘n’  is odd, print Weird\n",
    "#If  ‘n’ is even and in the inclusive range of 2 to 5, print Not Weird\n",
    "#If  ‘n’ is even and in the inclusive range of 6 to 20 , print Weird\n",
    "#If  ‘n’ is even and greater than 20, print Not Weird\n",
    "def integ(n):\n",
    "    if n%2==0:\n",
    "        if n in range(2,6):\n",
    "            print(\"NOt Weird\")\n",
    "        elif n in range(6,21):\n",
    "            print(\"Weird\")\n",
    "        elif n>20:\n",
    "            print(\"Not Weird\")\n",
    "    else:\n",
    "        print(\"Weird\")\n",
    "n=int(input(\"enter a number\"))\n",
    "integ(n)\n",
    "    \n",
    "        \n"
   ]
  },
  {
   "cell_type": "code",
   "execution_count": 1,
   "metadata": {},
   "outputs": [],
   "source": [
    "#Given the participants ‘n’ score sheet for your University Sports Day, you are required to find the runner-up score. \n",
    "#You are - given scores. Store them in a list and find the score of the runner-up. (there can be \n",
    "#multiple winners - if their scores - - - match)."
   ]
  },
  {
   "cell_type": "code",
   "execution_count": 58,
   "metadata": {},
   "outputs": [
    {
     "name": "stdout",
     "output_type": "stream",
     "text": [
      "['', 'my', 'name', 'is', '111', 'lavanya', '1234', 'saho', '1234567', 'u']\n"
     ]
    },
    {
     "ename": "AttributeError",
     "evalue": "'list' object has no attribute 'isdigit'",
     "output_type": "error",
     "traceback": [
      "\u001b[1;31m---------------------------------------------------------------------------\u001b[0m",
      "\u001b[1;31mAttributeError\u001b[0m                            Traceback (most recent call last)",
      "\u001b[1;32m<ipython-input-58-2450eab9509c>\u001b[0m in \u001b[0;36m<module>\u001b[1;34m\u001b[0m\n\u001b[0;32m      4\u001b[0m \u001b[0mprint\u001b[0m\u001b[1;33m(\u001b[0m\u001b[0ml\u001b[0m\u001b[1;33m)\u001b[0m\u001b[1;33m\u001b[0m\u001b[1;33m\u001b[0m\u001b[0m\n\u001b[0;32m      5\u001b[0m \u001b[1;32mfor\u001b[0m \u001b[0mi\u001b[0m \u001b[1;32min\u001b[0m \u001b[0ml\u001b[0m\u001b[1;33m:\u001b[0m\u001b[1;33m\u001b[0m\u001b[1;33m\u001b[0m\u001b[0m\n\u001b[1;32m----> 6\u001b[1;33m     \u001b[1;32mif\u001b[0m \u001b[0ml\u001b[0m\u001b[1;33m.\u001b[0m\u001b[0misdigit\u001b[0m\u001b[1;33m(\u001b[0m\u001b[1;33m)\u001b[0m\u001b[1;33m:\u001b[0m\u001b[1;33m\u001b[0m\u001b[1;33m\u001b[0m\u001b[0m\n\u001b[0m\u001b[0;32m      7\u001b[0m         \u001b[0mprint\u001b[0m\u001b[1;33m(\u001b[0m\u001b[0ml\u001b[0m\u001b[1;33m)\u001b[0m\u001b[1;33m\u001b[0m\u001b[1;33m\u001b[0m\u001b[0m\n",
      "\u001b[1;31mAttributeError\u001b[0m: 'list' object has no attribute 'isdigit'"
     ]
    }
   ],
   "source": [
    "s=\" my name is 111 lavanya 1234 saho 1234567 u\"\n",
    "for i in range(len(s)):\n",
    "    l=s.split(' ')\n",
    "print(l)\n",
    "for i in l:\n",
    "    if l.isdigit():\n",
    "        print(l)"
   ]
  },
  {
   "cell_type": "code",
   "execution_count": null,
   "metadata": {},
   "outputs": [],
   "source": []
  },
  {
   "cell_type": "code",
   "execution_count": null,
   "metadata": {},
   "outputs": [],
   "source": []
  }
 ],
 "metadata": {
  "kernelspec": {
   "display_name": "Python 3",
   "language": "python",
   "name": "python3"
  },
  "language_info": {
   "codemirror_mode": {
    "name": "ipython",
    "version": 3
   },
   "file_extension": ".py",
   "mimetype": "text/x-python",
   "name": "python",
   "nbconvert_exporter": "python",
   "pygments_lexer": "ipython3",
   "version": "3.7.3"
  }
 },
 "nbformat": 4,
 "nbformat_minor": 2
}
