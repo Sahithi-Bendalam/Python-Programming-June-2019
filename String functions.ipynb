{
 "cells": [
  {
   "cell_type": "markdown",
   "metadata": {},
   "source": [
    "### String Functions\n",
    "- capitalize() - Returns the string with first letter capitalized and the rest lowercased.\n",
    "- casefold() - Returns a lowercase string, generally used for caseless matching. This is more aggressive than the lower()      method.\n",
    "- center() - Center the string within the specified width with optional fill character.\n",
    "- count() - Count the non-overlapping occurrence of supplied substring in the string.\n",
    "- encode() - Return the encoded version of the string as a bytes object.\n",
    "- endswith() - Returns ture if the string ends with the supplied substring.\n",
    "- expandtabs() - Return a string where all the tab characters are replaced by the supplied number of spaces.\n",
    "- find() - Return the index of the first occurrence of supplied substring in the string. Return -1 if not found.\n",
    "- format() - Format the given string.\n",
    "- format_map() - Format the given string.\n",
    "- index() - Return the index of the first occurrence of supplied substring in the string. Raise ValueError if not found.\n",
    "- isalnum() - Return true if the string is non-empty and all characters are alphanumeric.\n",
    "- isalpha() - Return true if the string is non-empty and all characters are alphabetic.\n",
    "- isdecimal() - Return true if the string is non-empty and all characters are decimal characters.\n",
    "- isdigit() - Return true if the string is non-empty and all characters are digits.\n",
    "- isidentifier() - Return true if the string is a valid identifier.\n",
    "- islower() - Return true if the string has all lowercased characters and at least one is cased character.\n",
    "- isnumeric() - Return true if the string is non-empty and all characters are numeric.\n",
    "- isprintable() - Return true if the string is empty or all characters are printable.\n",
    "- isspace() - Return true if the string is non-empty and all characters are whitespaces.\n",
    "- istitle() - Return true if the string is non-empty and titlecased.\n",
    "- isupper() - Return true if the string has all uppercased characters and at least one is cased character.\n",
    "- join() - Concatenate strings in the provided iterable with separator between them being the string providing this method.\n",
    "- ljust() - Left justify the string in the provided width with optional fill characters.\n",
    "- lower() - Return a copy of all lowercased string.\n",
    "- lstrip() - Return a string with provided leading characters removed.\n",
    "- maketrans() - Return a translation table.\n",
    "- partition() - Partition the string at first occurrence of substring (separator) and return a 3-tuple with part before separator, the separator and part after separator.\n",
    "- replace() - Replace all old substrings with new substrings.\n",
    "- rfind() - Return the index of the last occurrence of supplied substring in the string. Return -1 if not found.\n",
    "- rindex() - Return the index of the last occurrence of supplied substring in the string. Raise ValueError if not found.\n",
    "- rjust() - Right justify the string in the provided width with optional fill characters.\n",
    "- rpartition() - Partition the string at last occurrence of substring (separator) and return a 3-tuple with part before separator, the separator and part after separator.\n",
    "- rsplit() - Return a list of words delimited by the provided subtring. If maximum number of split is specified, it is done from the right.\n",
    "- rstrip() - Return a string with provided trailing characters removed.\n",
    "- split() - Return a list of words delimited by the provided subtring. If maximum number of split is specified, it is done from the left.\n",
    "- splitlines() - Return a list of lines in the string.\n",
    "- startswith() - Return true if the string starts with the provided substring.\n",
    "- strip() - Return a string with provided leading and trailing characters removed.\n",
    "- swapcase() - Return a string with lowercase characters converted to uppercase and vice versa.\n",
    "- title() - Return a title (first character of each word capitalized, others lowercased) cased string.\n",
    "- translate() - Return a copy of string that has been mapped according to the provided map.\n",
    "- upper() - Return a copy of all uppercased string.\n",
    "- zfill() - Return a numeric string left filled with zeros in the provided width."
   ]
  },
  {
   "cell_type": "code",
   "execution_count": null,
   "metadata": {},
   "outputs": [],
   "source": []
  }
 ],
 "metadata": {
  "kernelspec": {
   "display_name": "Python 3",
   "language": "python",
   "name": "python3"
  },
  "language_info": {
   "codemirror_mode": {
    "name": "ipython",
    "version": 3
   },
   "file_extension": ".py",
   "mimetype": "text/x-python",
   "name": "python",
   "nbconvert_exporter": "python",
   "pygments_lexer": "ipython3",
   "version": "3.7.3"
  }
 },
 "nbformat": 4,
 "nbformat_minor": 2
}
