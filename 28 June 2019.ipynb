{
 "cells": [
  {
   "cell_type": "markdown",
   "metadata": {},
   "source": [
    "### Day Objectives\n",
    "* Maps\n",
    "* Lambda\n",
    "* Build-in-Functions\n",
    "* Use Cases - File / Data Encryption"
   ]
  },
  {
   "cell_type": "markdown",
   "metadata": {},
   "source": [
    "#### Maps\n",
    "\n",
    "\n",
    "* Mapping - Entity with a function\n",
    "\n",
    "f : x^2 + 3*x + 9\n",
    "\n",
    "x : [1,10]\n",
    "\n",
    "y = f(x)\n",
    "\n",
    "f:x^2\n",
    "\n",
    " x      y\n",
    " \n",
    " 1      1\n",
    " \n",
    " 2      4\n",
    " \n",
    " 3      9\n",
    " \n",
    " 4      16\n",
    " \n",
    " \n",
    " map( function, Iterable)\n",
    " \n",
    " "
   ]
  },
  {
   "cell_type": "code",
   "execution_count": 4,
   "metadata": {},
   "outputs": [
    {
     "data": {
      "text/plain": [
       "1024"
      ]
     },
     "execution_count": 4,
     "metadata": {},
     "output_type": "execute_result"
    }
   ],
   "source": [
    "def powerN(a,n):\n",
    "    #return a**n\n",
    "    r=1\n",
    "    for i in range(1,n+1):\n",
    "        r *= a\n",
    "    return r\n",
    "powerN(2,10)\n"
   ]
  },
  {
   "cell_type": "code",
   "execution_count": 6,
   "metadata": {},
   "outputs": [
    {
     "data": {
      "text/plain": [
       "8"
      ]
     },
     "execution_count": 6,
     "metadata": {},
     "output_type": "execute_result"
    }
   ],
   "source": [
    "def recursionPowerN(a,n):\n",
    "    if n==0:\n",
    "        return 1\n",
    "    else:\n",
    "        return a * recursionPowerN(a,n-1)\n",
    "recursionPowerN(2,3)"
   ]
  },
  {
   "cell_type": "code",
   "execution_count": 13,
   "metadata": {},
   "outputs": [
    {
     "data": {
      "text/plain": [
       "{1, 8, 27}"
      ]
     },
     "execution_count": 13,
     "metadata": {},
     "output_type": "execute_result"
    }
   ],
   "source": [
    "def cube(n):\n",
    "    return n ** 3\n",
    "li = [1,2,3,4,5,6]\n",
    "set(map(cube, [1,2,3]))"
   ]
  },
  {
   "cell_type": "code",
   "execution_count": 16,
   "metadata": {},
   "outputs": [
    {
     "data": {
      "text/plain": [
       "['1', '2', '3', '4', '5', '6']"
      ]
     },
     "execution_count": 16,
     "metadata": {},
     "output_type": "execute_result"
    }
   ],
   "source": [
    "li2=['1','2','3']\n",
    "li2=list(map(int,li))  # Converting string into integer\n",
    "list(map(float,li2))   # Converting integer to float\n",
    "list(map(str,li2))      # Converting integer to string"
   ]
  },
  {
   "cell_type": "code",
   "execution_count": null,
   "metadata": {},
   "outputs": [],
   "source": []
  },
  {
   "cell_type": "markdown",
   "metadata": {},
   "source": [
    "### Filter\n",
    " \n",
    "Used to check boolean values\n",
    "\n",
    "  f:x ---> {T,F}\n",
    "\n",
    "- Used to filter the data based on the definite condition\n",
    "\n",
    "y is a subset of x\n",
    "\n",
    "\n",
    "2,3,5 are primes so satisfied the condition\n",
    "\n",
    "x    y\n",
    "\n",
    "1   not satisfied\n",
    "\n",
    "2    2\n",
    "\n",
    "3    3\n",
    "\n",
    "4    not satisfied\n",
    "\n",
    "5    5"
   ]
  },
  {
   "cell_type": "code",
   "execution_count": 26,
   "metadata": {},
   "outputs": [
    {
     "data": {
      "text/plain": [
       "[1, 2, 3]"
      ]
     },
     "execution_count": 26,
     "metadata": {},
     "output_type": "execute_result"
    }
   ],
   "source": [
    "li = [1,2,'a','b','c',3]\n",
    "def isDigit(c):\n",
    "    c=str(c)\n",
    "    if c.isdigit():\n",
    "        return True\n",
    "    return False\n",
    "isDigit('a')\n",
    "list(filter(isDigit, li))"
   ]
  },
  {
   "cell_type": "code",
   "execution_count": 48,
   "metadata": {},
   "outputs": [
    {
     "name": "stdout",
     "output_type": "stream",
     "text": [
      "[503, 509, 521, 523, 541, 547, 557, 563, 569, 571, 577, 587, 593, 599]\n",
      "[503, 509, 521, 523, 541, 547, 557, 563, 569, 571, 577, 587, 593, 599]\n"
     ]
    }
   ],
   "source": [
    "# Identify all Primes in a range\n",
    "def Prime(n):\n",
    "    c=0\n",
    "    for i in range(1,n+1):\n",
    "        if n%i == 0:\n",
    "            c+=1\n",
    "    if c==2:\n",
    "        return True\n",
    "    return False\n",
    "Prime(3)\n",
    "lb,ub = 500,600\n",
    "primeList = list(filter(Prime, range(lb,ub+1)))  # Using filter\n",
    "primeList\n",
    "\n",
    "primeList2 = [i for i in range(lb,ub+1) if Prime(i)]  # Using List comprehension\n",
    "print(primeList2)\n",
    "print(primeList)\n",
    "\n",
    "# Maps fail because it doesnot apply for checking conditions"
   ]
  },
  {
   "cell_type": "code",
   "execution_count": null,
   "metadata": {},
   "outputs": [],
   "source": []
  },
  {
   "cell_type": "markdown",
   "metadata": {},
   "source": [
    "### Lambda\n",
    "\n",
    "Anonymous Functions\n",
    "\n",
    "Can be embedded into Lists Comprehension, Maps, Filters\n",
    "\n",
    "\n"
   ]
  },
  {
   "cell_type": "code",
   "execution_count": 56,
   "metadata": {},
   "outputs": [
    {
     "data": {
      "text/plain": [
       "[1, 3, 5]"
      ]
     },
     "execution_count": 56,
     "metadata": {},
     "output_type": "execute_result"
    }
   ],
   "source": [
    "a = lambda x : x ** 3\n",
    "a(3)\n",
    "list(map(lambda x:x**3, [1,2,3,4,5,6]))\n",
    "list(filter(lambda x:(x%2==0),[1,2,3,4,5,6])) # Even numbers\n",
    "list(filter(lambda x:(x%2!=0),[1,2,3,4,5,6])) # Odd numbers"
   ]
  },
  {
   "cell_type": "code",
   "execution_count": 70,
   "metadata": {},
   "outputs": [
    {
     "data": {
      "text/plain": [
       "[7, 8, 6]"
      ]
     },
     "execution_count": 70,
     "metadata": {},
     "output_type": "execute_result"
    }
   ],
   "source": [
    "import random\n",
    "marks1 = [random.randint(0,25) for i in range(10)]\n",
    "marks2 = [random.randint(0,25) for i in range(10)]\n",
    "marks3 = [random.randint(0,25) for i in range(10)]\n",
    "avgInternal=list(map(lambda x,y,z: int((x+y+z)/3), marks1, marks2,marks3)) # Average marks for 10 students\n",
    "avgInternal\n",
    "failedMarks = list(filter(lambda x : x<10,avgInternal))\n",
    "failedMarks"
   ]
  },
  {
   "cell_type": "markdown",
   "metadata": {},
   "source": [
    "#### Apply Functional programming to the marks analysis application"
   ]
  },
  {
   "cell_type": "code",
   "execution_count": 71,
   "metadata": {},
   "outputs": [],
   "source": [
    "# Generate Marks data\n",
    "from random import randint\n",
    "def generateMarks(n,lb,ub):\n",
    "    filename = 'DataFiles/marks.txt'\n",
    "    with open(filename, 'w') as f:\n",
    "        for i in range(n):\n",
    "            marks = randint(lb,ub)\n",
    "            f.write(str(marks)+'\\n')\n",
    "    return\n",
    "generateMarks(300,0,100)"
   ]
  },
  {
   "cell_type": "code",
   "execution_count": 80,
   "metadata": {},
   "outputs": [
    {
     "data": {
      "text/plain": [
       "47"
      ]
     },
     "execution_count": 80,
     "metadata": {},
     "output_type": "execute_result"
    }
   ],
   "source": [
    "# Class Analysis\n",
    "# Class Average, % of Passed, % of Failed, \n",
    "#Failed and Distinction, Frequency of Highest and Lowest\n",
    "\n",
    "def readmarkslist(filepath):\n",
    "    with open(filepath,'r') as f:\n",
    "        filedata = f.read().split()\n",
    "    return list(map(int,filedata))\n",
    "def classAverage(filepath):\n",
    "    with open(filepath,\"r\") as f:\n",
    "        filedata = f.read().split()\n",
    "        #markslist = re.split('\\n', filedata)\n",
    "    markslist = list(map(int,filedata))\n",
    "    return sum(markslist)//len(markslist)\n",
    "filename = 'DataFiles/marks.txt'\n",
    "classAverage(filename)        "
   ]
  },
  {
   "cell_type": "code",
   "execution_count": 84,
   "metadata": {},
   "outputs": [
    {
     "data": {
      "text/plain": [
       "44.333333333333336"
      ]
     },
     "execution_count": 84,
     "metadata": {},
     "output_type": "execute_result"
    }
   ],
   "source": [
    "\n",
    "def percentageFailed(filepath):\n",
    "    markslist = readmarkslist(filepath)\n",
    "    failedcount = len(list(filter(lambda marks:marks<40,markslist)))\n",
    "    return (failedcount*100)/300\n",
    "percentageFailed(filename)"
   ]
  },
  {
   "cell_type": "code",
   "execution_count": 88,
   "metadata": {},
   "outputs": [
    {
     "data": {
      "text/plain": [
       "54.333333333333336"
      ]
     },
     "execution_count": 88,
     "metadata": {},
     "output_type": "execute_result"
    }
   ],
   "source": [
    "def percentagePassed(filepath):\n",
    "    markslist = readmarkslist(filepath)\n",
    "    passedcount = len(list(filter(lambda marks:marks>40,markslist)))\n",
    "    return (passedcount*100)/300\n",
    "percentagePassed(filename)"
   ]
  },
  {
   "cell_type": "code",
   "execution_count": 91,
   "metadata": {},
   "outputs": [
    {
     "data": {
      "text/plain": [
       "26.666666666666668"
      ]
     },
     "execution_count": 91,
     "metadata": {},
     "output_type": "execute_result"
    }
   ],
   "source": [
    "def percentageDistinction(filepath):\n",
    "    markslist = readmarkslist(filepath)\n",
    "    distinction = len(list(filter(lambda marks:marks>=70,markslist)))\n",
    "    return distinction*100/len(markslist)\n",
    "percentageDistinction(filename)    "
   ]
  },
  {
   "cell_type": "code",
   "execution_count": 93,
   "metadata": {},
   "outputs": [
    {
     "name": "stdout",
     "output_type": "stream",
     "text": [
      "100\n"
     ]
    },
    {
     "data": {
      "text/plain": [
       "3"
      ]
     },
     "execution_count": 93,
     "metadata": {},
     "output_type": "execute_result"
    }
   ],
   "source": [
    "def highestFrequency(filepath):\n",
    "    markslist = readmarkslist(filepath)\n",
    "    print(max(markslist))\n",
    "    return markslist.count(max(markslist))\n",
    "highestFrequency(filename)"
   ]
  },
  {
   "cell_type": "code",
   "execution_count": 94,
   "metadata": {},
   "outputs": [
    {
     "name": "stdout",
     "output_type": "stream",
     "text": [
      "0\n"
     ]
    },
    {
     "data": {
      "text/plain": [
       "3"
      ]
     },
     "execution_count": 94,
     "metadata": {},
     "output_type": "execute_result"
    }
   ],
   "source": [
    "def lowestFrequency(filepath):\n",
    "    markslist = readmarkslist(filepath)\n",
    "    print(min(markslist))\n",
    "    return markslist.count(min(markslist))\n",
    "lowestFrequency(filename)"
   ]
  },
  {
   "cell_type": "code",
   "execution_count": null,
   "metadata": {},
   "outputs": [],
   "source": []
  },
  {
   "cell_type": "markdown",
   "metadata": {},
   "source": [
    "### Data Encryption\n",
    "\n",
    "Key - Mapping of characters with replaced characters\n",
    "\n",
    "0->4\n",
    "1->5\n",
    "2->6\n",
    "3->7\n",
    "4->8\n",
    "5->9\n",
    "6->0\n",
    "7->1\n",
    "8->2\n",
    "9->3\n"
   ]
  },
  {
   "cell_type": "code",
   "execution_count": 95,
   "metadata": {},
   "outputs": [],
   "source": [
    "# Function to generate key for encryption\n",
    "keypath = 'DataFiles/key.txt'\n",
    "def generatekey(keypath):\n",
    "    with open(keypath,'w') as f:\n",
    "        for i in range(10):\n",
    "            if i<6:\n",
    "                f.write(str(i)+' '+str(i+4)+'\\n')\n",
    "            else:\n",
    "                f.write(str(i)+' '+str(i-6)+'\\n')\n",
    "    return\n",
    "generatekey(keypath)"
   ]
  },
  {
   "cell_type": "code",
   "execution_count": 98,
   "metadata": {},
   "outputs": [
    {
     "data": {
      "text/plain": [
       "{'0': '4',\n",
       " '1': '5',\n",
       " '2': '6',\n",
       " '3': '7',\n",
       " '4': '8',\n",
       " '5': '9',\n",
       " '6': '0',\n",
       " '7': '1',\n",
       " '8': '2',\n",
       " '9': '3'}"
      ]
     },
     "execution_count": 98,
     "metadata": {},
     "output_type": "execute_result"
    }
   ],
   "source": [
    "# Function to encrypt a data file\n",
    "keyfile = 'DataFiles/key.txt'\n",
    "def dictionaryKeyFile(keyfile):\n",
    "    key = {}\n",
    "    with open(keyfile,'r') as f:\n",
    "        for line in f:\n",
    "            line = line.split()\n",
    "            key[line[0]] = line[1]\n",
    "    return key\n",
    "dictionaryKeyFile(keyfile)\n",
    "#def encryptMarksData(datafile, keyfile):\n",
    "    # construct a dictionary for key data"
   ]
  },
  {
   "cell_type": "code",
   "execution_count": null,
   "metadata": {},
   "outputs": [],
   "source": []
  }
 ],
 "metadata": {
  "kernelspec": {
   "display_name": "Python 3",
   "language": "python",
   "name": "python3"
  },
  "language_info": {
   "codemirror_mode": {
    "name": "ipython",
    "version": 3
   },
   "file_extension": ".py",
   "mimetype": "text/x-python",
   "name": "python",
   "nbconvert_exporter": "python",
   "pygments_lexer": "ipython3",
   "version": "3.7.3"
  }
 },
 "nbformat": 4,
 "nbformat_minor": 2
}
