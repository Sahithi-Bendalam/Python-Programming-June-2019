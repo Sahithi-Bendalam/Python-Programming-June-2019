{
 "cells": [
  {
   "cell_type": "markdown",
   "metadata": {},
   "source": [
    "## Lists"
   ]
  },
  {
   "cell_type": "code",
   "execution_count": 1,
   "metadata": {},
   "outputs": [
    {
     "data": {
      "text/plain": [
       "456.0"
      ]
     },
     "execution_count": 1,
     "metadata": {},
     "output_type": "execute_result"
    }
   ],
   "source": [
    "li = [123,978,654]\n",
    "\n",
    "li # Acess the entire list\n",
    "\n",
    "li[1] # Acess an elemnt with index in a list\n",
    "\n",
    "li[1:] # Acess all element second element to last element\n",
    "\n",
    "li = li[::-1] # Reversing list elements and reassigning\n",
    "\n",
    "li[::2] # Acessing even index elements\n",
    "\n",
    "li[1::2]\n",
    "\n",
    "# Lists can be accessedd manupulated in two different ways \n",
    "        # Direct referencing - [index]\n",
    "        # Indirect referencing - [through functions]\n",
    "        \n",
    "li.append(345) # add element to end of the list\n",
    "\n",
    "\n",
    "li.insert(3,233) # add element at particular place\n",
    "\n",
    "li.sort() # sort elements in ascending order\n",
    "\n",
    "li.pop() # Remove the last element in a list\n",
    "\n",
    "li.pop(1) # Remove element in a list\n",
    "\n",
    "li2 = [234,456,789]\n",
    "\n",
    "li.extend(li2) # Merge list2 into list1\n",
    "\n",
    "sum(li) # Sum of elements in a list\n",
    "\n",
    "max(li) # Maximum element in a list\n",
    "\n",
    "len(li) # Number of elements in a list\n",
    "\n",
    "sum(li)/len(li) # average of list elements\n",
    "\n",
    "sum(li[1::2])/len(li[1::2]) # Average of all alternate elements"
   ]
  },
  {
   "cell_type": "code",
   "execution_count": 2,
   "metadata": {},
   "outputs": [
    {
     "data": {
      "text/plain": [
       "1234"
      ]
     },
     "execution_count": 2,
     "metadata": {},
     "output_type": "execute_result"
    }
   ],
   "source": [
    "# Function to identify second largest element in a list\n",
    "\n",
    "def SecondLargest(li):\n",
    "    li.sort()\n",
    "    return li[-2]\n",
    "    \n",
    "SecondLargest([112345,1234,897,567,789])\n",
    "\n",
    "# FUnction to return the nth largest\n",
    "\n",
    "def nLargest(li,n):\n",
    "    li.sort()\n",
    "    return li[-n]\n",
    "li = [112345,1234,897,567,789]\n",
    "nLargest(li,2)"
   ]
  },
  {
   "cell_type": "code",
   "execution_count": 3,
   "metadata": {},
   "outputs": [
    {
     "data": {
      "text/plain": [
       "[1, 2, 3, 4, 5]"
      ]
     },
     "execution_count": 3,
     "metadata": {},
     "output_type": "execute_result"
    }
   ],
   "source": [
    "s = \"1 2 3 4 5\"\n",
    "li = s.split()\n",
    "numberlist = []\n",
    "for i in li:\n",
    "    numberlist.append(int(i))\n",
    "numberlist"
   ]
  },
  {
   "cell_type": "markdown",
   "metadata": {},
   "source": [
    "## Problem: Closest to Zero\n",
    "you have been given an integer array A of size N. You need to print the value closest to zero ,if there are multiple values,Print the number with greater value.\n",
    "\n",
    "### Explanation\n",
    "- li = [3,2,-1,-2,-3] (Original List)\n",
    "- Sort the data\n",
    "- li = [-3,-2,-1,2,3] (Sorted List)\n",
    "- pl = [1,2,2,3,3] (Positive Sorted List)\n",
    "- pl[0] -> Check if this number is -ve or +ve in the sorted list\n",
    "- if pl[0] in li:\n",
    "    - return pl[0]\n",
    "- else\n",
    "    - return -pl[0]"
   ]
  },
  {
   "cell_type": "code",
   "execution_count": 4,
   "metadata": {},
   "outputs": [
    {
     "name": "stdout",
     "output_type": "stream",
     "text": [
      "-1\n"
     ]
    }
   ],
   "source": [
    "## Solution for above Problem\n",
    "li = [-1,-2,2,3]\n",
    "li.sort()\n",
    "pl = []\n",
    "for i in li:\n",
    "    pl.append(abs(i))\n",
    "\n",
    "pl.sort()\n",
    "if pl[0] in li:\n",
    "    print(pl[0])\n",
    "else:\n",
    "    print(-pl[0])"
   ]
  },
  {
   "cell_type": "code",
   "execution_count": null,
   "metadata": {},
   "outputs": [],
   "source": [
    "# Solution for the Closest to Zero --> Print greater value\n",
    "n = int(input())\n",
    "s = input()\n",
    "s = s.split()\n",
    "li = []\n",
    "for i in s:\n",
    "    li.append(int(i))\n",
    "def closestZero(li):\n",
    "    if 0 in li:\n",
    "        return 0\n",
    "    else:\n",
    "        li.sort()\n",
    "        pc = []\n",
    "        nc = []\n",
    "        for i in li:\n",
    "            if i > 0:\n",
    "                pc.append(i)\n",
    "        for i in li:\n",
    "            if i < 0:\n",
    "                nc.append(i)\n",
    "        if len(nc) == 0:\n",
    "            return min(pc)\n",
    "        elif len(pc) == 0:\n",
    "            return max(nc)\n",
    "        else:\n",
    "            nz = max(nc)\n",
    "            pz = min(pc)\n",
    "            if abs(nz) > pz or abs(nz) == pz:\n",
    "                return pz\n",
    "            else:\n",
    "                return nz\n",
    "            \n",
    "closestZero(li)\n"
   ]
  },
  {
   "cell_type": "code",
   "execution_count": 8,
   "metadata": {},
   "outputs": [
    {
     "name": "stdout",
     "output_type": "stream",
     "text": [
      "3\n"
     ]
    }
   ],
   "source": [
    "## Farthest from zero\n",
    "\n",
    "li = [-1,-2,2,3]\n",
    "li.sort()\n",
    "pl = []\n",
    "for i in li:\n",
    "    pl.append(abs(i))\n",
    "\n",
    "pl.sort()\n",
    "if pl[-1] in li:\n",
    "    print(pl[-1])\n",
    "else:\n",
    "    print(-pl[-1])"
   ]
  },
  {
   "cell_type": "code",
   "execution_count": null,
   "metadata": {},
   "outputs": [],
   "source": [
    "## You are given three numbers a,b,c.Write a program to find the largest number\n",
    "# Which is less than or equal to c and leaves remainder b when divided by a.\n",
    "\n",
    "# Test Case1: 3 2 9\n",
    "# 9 % 3 == 0\n",
    "# 8 % 3 == 2\n",
    "\n",
    "# Test Case2: 1 2 4\n",
    "# 4 % 1 == 0\n",
    "# 3 \n",
    "\n",
    "\n",
    "def cal(a,b,c):\n",
    "    for i in range(c,a-1,-1): # c,c-1,----a\n",
    "        if i % a == b:\n",
    "            return i\n",
    "    return -1\n",
    "cal(3,2,100)"
   ]
  },
  {
   "cell_type": "code",
   "execution_count": 7,
   "metadata": {},
   "outputs": [
    {
     "name": "stdout",
     "output_type": "stream",
     "text": [
      "543\n"
     ]
    }
   ],
   "source": [
    "# function to identify the second largest element in a  unique list\n",
    "    # sort the data and select the second last element \n",
    "    #sort the data in reverse order, and select the second element \n",
    "    # remove the max element and then get the max of new list \n",
    "    #\n",
    "li=[12,33,45,543,44,44239,234]\n",
    "def secondLargest(li):\n",
    "    li.sort()\n",
    "    print(li[-2])\n",
    "secondLargest(li)"
   ]
  },
  {
   "cell_type": "code",
   "execution_count": 6,
   "metadata": {},
   "outputs": [
    {
     "ename": "NameError",
     "evalue": "name 'li' is not defined",
     "output_type": "error",
     "traceback": [
      "\u001b[1;31m---------------------------------------------------------------------------\u001b[0m",
      "\u001b[1;31mNameError\u001b[0m                                 Traceback (most recent call last)",
      "\u001b[1;32m<ipython-input-6-bac872b97980>\u001b[0m in \u001b[0;36m<module>\u001b[1;34m\u001b[0m\n\u001b[0;32m      4\u001b[0m     \u001b[1;32mreturn\u001b[0m \u001b[0mli\u001b[0m\u001b[1;33m[\u001b[0m\u001b[1;33m-\u001b[0m\u001b[0mn\u001b[0m\u001b[1;33m]\u001b[0m\u001b[1;33m\u001b[0m\u001b[1;33m\u001b[0m\u001b[0m\n\u001b[0;32m      5\u001b[0m \u001b[1;31m#secondLargest(li)\u001b[0m\u001b[1;33m\u001b[0m\u001b[1;33m\u001b[0m\u001b[1;33m\u001b[0m\u001b[0m\n\u001b[1;32m----> 6\u001b[1;33m \u001b[0mgenericlargest\u001b[0m\u001b[1;33m(\u001b[0m\u001b[0mli\u001b[0m\u001b[1;33m,\u001b[0m\u001b[1;36m4\u001b[0m\u001b[1;33m)\u001b[0m\u001b[1;33m\u001b[0m\u001b[1;33m\u001b[0m\u001b[0m\n\u001b[0m",
      "\u001b[1;31mNameError\u001b[0m: name 'li' is not defined"
     ]
    }
   ],
   "source": [
    "#Function that returns the generic largest value\n",
    "def genericlargest(li,n):\n",
    "    li.sort()\n",
    "    return li[-n]\n",
    "#secondLargest(li)\n",
    "genericlargest(li,4)"
   ]
  },
  {
   "cell_type": "code",
   "execution_count": 5,
   "metadata": {},
   "outputs": [
    {
     "ename": "NameError",
     "evalue": "name 'li' is not defined",
     "output_type": "error",
     "traceback": [
      "\u001b[1;31m---------------------------------------------------------------------------\u001b[0m",
      "\u001b[1;31mNameError\u001b[0m                                 Traceback (most recent call last)",
      "\u001b[1;32m<ipython-input-5-efffe0538f0e>\u001b[0m in \u001b[0;36m<module>\u001b[1;34m\u001b[0m\n\u001b[0;32m     15\u001b[0m     \u001b[1;32mreturn\u001b[0m \u001b[1;33m-\u001b[0m\u001b[1;36m1\u001b[0m\u001b[1;33m\u001b[0m\u001b[1;33m\u001b[0m\u001b[0m\n\u001b[0;32m     16\u001b[0m \u001b[1;31m#print(li)\u001b[0m\u001b[1;33m\u001b[0m\u001b[1;33m\u001b[0m\u001b[1;33m\u001b[0m\u001b[0m\n\u001b[1;32m---> 17\u001b[1;33m \u001b[0mlinerSearch2\u001b[0m\u001b[1;33m(\u001b[0m\u001b[0mli\u001b[0m\u001b[1;33m,\u001b[0m\u001b[1;36m543\u001b[0m\u001b[1;33m)\u001b[0m\u001b[1;33m\u001b[0m\u001b[1;33m\u001b[0m\u001b[0m\n\u001b[0m",
      "\u001b[1;31mNameError\u001b[0m: name 'li' is not defined"
     ]
    }
   ],
   "source": [
    "# Function tosearch for data in a list\n",
    "#Search for the key in the list and return the \n",
    "\"\"\"def linearSearch(li,key):\n",
    "    for index in range(0,len(li)):\n",
    "        if li[index]==key:\n",
    "            return index\n",
    "    return -1\n",
    "print(li)\n",
    "linearSearch(li,40)\"\"\"\n",
    "\n",
    "def linerSearch2(li,key):\n",
    "    for value in li:\n",
    "        if value==key:\n",
    "            return li.index(key)\n",
    "    return -1\n",
    "#print(li)\n",
    "linerSearch2(li,543)"
   ]
  },
  {
   "cell_type": "code",
   "execution_count": 2,
   "metadata": {},
   "outputs": [
    {
     "name": "stdout",
     "output_type": "stream",
     "text": [
      "2\n"
     ]
    },
    {
     "data": {
      "text/plain": [
       "2"
      ]
     },
     "execution_count": 2,
     "metadata": {},
     "output_type": "execute_result"
    }
   ],
   "source": [
    "#Function to count occrances of a chectrater \n",
    "#\"Python-Programming\",m->\n",
    "s=\"Python Programming\"\n",
    "count=0\n",
    "for i in s:\n",
    "    if i==\"m\":\n",
    "        count=count+1\n",
    "print(count)\n",
    "    #return -1\n",
    "def countofstring(s,c):\n",
    "    count=0\n",
    "    for i in s:\n",
    "        if i==c:\n",
    "            count+=1\n",
    "    return count\n",
    "countofstring(s,\"g\")"
   ]
  },
  {
   "cell_type": "code",
   "execution_count": 3,
   "metadata": {},
   "outputs": [
    {
     "name": "stdout",
     "output_type": "stream",
     "text": [
      "1\n"
     ]
    }
   ],
   "source": [
    "print(s.count(\"Py\"))"
   ]
  },
  {
   "cell_type": "code",
   "execution_count": 4,
   "metadata": {},
   "outputs": [
    {
     "name": "stdout",
     "output_type": "stream",
     "text": [
      "qwerftghg\n"
     ]
    },
    {
     "data": {
      "text/plain": [
       "['qwerftghg']"
      ]
     },
     "execution_count": 4,
     "metadata": {},
     "output_type": "execute_result"
    }
   ],
   "source": [
    "q = input()\n",
    "q.split()\n",
    "#q.upper()"
   ]
  },
  {
   "cell_type": "code",
   "execution_count": 1,
   "metadata": {},
   "outputs": [
    {
     "data": {
      "text/plain": [
       "True"
      ]
     },
     "execution_count": 1,
     "metadata": {},
     "output_type": "execute_result"
    }
   ],
   "source": [
    "def isPrime(n):\n",
    "    flag = True\n",
    "    for i in range(2, n//2+1):\n",
    "        if n % i == 0:\n",
    "            flag = False\n",
    "            return flag\n",
    "    return flag\n",
    "\n",
    "isPrime(7)"
   ]
  },
  {
   "cell_type": "code",
   "execution_count": null,
   "metadata": {},
   "outputs": [],
   "source": []
  }
 ],
 "metadata": {
  "kernelspec": {
   "display_name": "Python 3",
   "language": "python",
   "name": "python3"
  },
  "language_info": {
   "codemirror_mode": {
    "name": "ipython",
    "version": 3
   },
   "file_extension": ".py",
   "mimetype": "text/x-python",
   "name": "python",
   "nbconvert_exporter": "python",
   "pygments_lexer": "ipython3",
   "version": "3.7.3"
  }
 },
 "nbformat": 4,
 "nbformat_minor": 2
}
