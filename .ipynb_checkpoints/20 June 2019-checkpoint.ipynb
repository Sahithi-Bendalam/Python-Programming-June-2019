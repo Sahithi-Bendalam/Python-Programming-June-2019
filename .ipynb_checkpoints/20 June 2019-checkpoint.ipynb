{
 "cells": [
  {
   "cell_type": "markdown",
   "metadata": {},
   "source": [
    "### Date:20 June 2019\n",
    "### Objectives\n",
    "\n",
    "- Regular Expressions\n",
    "    - Constructing Regular Expressions for various use cases\n",
    "    - Regular Expressions Module and Related in Python\n",
    "    - Improving the Contacts application with name and phone number validation\n",
    "- File Handling\n",
    "    - Text files\n",
    "    - Upgrading the Contacts Application to store contact information in a text file"
   ]
  },
  {
   "cell_type": "markdown",
   "metadata": {},
   "source": [
    "### Regular Expressions\n",
    "- Pattern Matching\n",
    "- Symbolic notation of a pattern\n",
    "    - Pattern : Format which repeats\n",
    "    - Pattern(RE) - Represents the set of all data that matches that pattern\n",
    "- [0-9] -> Any digit \n",
    "- [a-z] -> Any lower case alphabet\n",
    "- [2468]  -> All single digit multiples of 2\n",
    "- ^[0-9]{1}$ -> Only single digit number\n",
    "\n",
    "- ^[0-9]{3}$ -> Only 3 Digit number\n",
    "\n",
    "- ^[0-9]*0$ ->All multiples of 10\n",
    "\n",
    "- ^([1-9][0-9]*[05])|^(5)$        ->All multiples of 5\n",
    "\n",
    "-  ^[1-9][0-9]{9}$       -> All 10 digit number\n",
    "\n",
    "-  (word)$    or     [w][o][r][d]       -> Searching for a word\n",
    "\n",
    "- ^[6-9][0-9]{9}$|^[0][6-9][0-9]{9}$|^[+][6-9][0-9]{10}$        -> Validating phone number(India)(starts with 9876 followed by \n",
    "\n",
    "9 digits)\n",
    "\n",
    "- ^[0-9a-z][0-9a-z_.]{4,13}[0-9a-z][@][a-z0-9]{2,18}[.][a-z]{2,4}$ -> Email Validation (username@domain.extension)\n",
    "          \n",
    "          \n",
    "          \n",
    "- username\n",
    "    - Length of username : [6,15]\n",
    "    - No special characters other than _ .\n",
    "    - Should not begin and end with _ .\n",
    "    - Character Set : all digits and lowercase alphabet\n",
    "- domain\n",
    "     - Length of domain : [3, 18]\n",
    "     - No special characters\n",
    "     - Character Set : all digits and lowercase alphabets\n",
    "- extension \n",
    "     - Length of extension : [2, 4]\n",
    "     - No special characters\n",
    "     - Character Set : lowercase alphabet\n",
    "\n",
    "- -> Any string of length 5 that starts with 'a' and ends with 'z'\n",
    "                        ^[a]...[z]$          -------->abcdz, a%sdz, a123z, aaaaz, azzzz\n",
    "           \n",
    "- -> Any string of any length starting with 'a' and 'z'\n",
    "                        ^[a].*[z]$\n"
   ]
  },
  {
   "cell_type": "code",
   "execution_count": null,
   "metadata": {},
   "outputs": [],
   "source": []
  },
  {
   "cell_type": "code",
   "execution_count": 16,
   "metadata": {},
   "outputs": [
    {
     "data": {
      "text/plain": [
       "False"
      ]
     },
     "execution_count": 16,
     "metadata": {},
     "output_type": "execute_result"
    }
   ],
   "source": [
    "# Function to validate a phone number\n",
    "import re\n",
    "def phoneNumberValidator(number):\n",
    "    pattern=\"^[6-9][0-9]{9}$|^[0][6-9][0-9]{9}$|^[+][6-9][0-9]{10}$\"\n",
    "    if re.match(pattern,str(number)):\n",
    "        return True\n",
    "    return False\n",
    "phoneNumberValidator(987654322312)"
   ]
  },
  {
   "cell_type": "code",
   "execution_count": 18,
   "metadata": {},
   "outputs": [
    {
     "data": {
      "text/plain": [
       "True"
      ]
     },
     "execution_count": 18,
     "metadata": {},
     "output_type": "execute_result"
    }
   ],
   "source": [
    "# Function to validate a mail\n",
    "import re\n",
    "def emailValidator(email):\n",
    "    pat=\"^[0-9a-z][0-9a-z_.]{4,13}[0-9a-z][@][a-z0-9]{2,18}[.][a-z]{2,4}$\"\n",
    "    if re.match(pat,str(email)):\n",
    "        return True\n",
    "    return False\n",
    "emailValidator(\"sahithi123@gmail.com\")"
   ]
  },
  {
   "cell_type": "code",
   "execution_count": 8,
   "metadata": {},
   "outputs": [
    {
     "name": "stdout",
     "output_type": "stream",
     "text": [
      "Contact sahithi added\n",
      "Invalid number\n",
      "Phone number is invalid\n"
     ]
    }
   ],
   "source": [
    "contacts = {\"name1\":[9753456890, \"xdemisaddef@gma.com\"]}\n",
    "\n",
    "def addContact(name, phone):\n",
    "    #verify that the contact doesnot already exits\n",
    "    if name not in contacts and phoneNumberValidator:\n",
    "        contacts[name]=phone\n",
    "        print(\"Contact %s added\" % name)\n",
    "    if not phoneNumberValidator(phone):\n",
    "        print(\"Phone number is invalid\")\n",
    "    return \n",
    "addContact(\"sahithi\",\"12345234\")"
   ]
  },
  {
   "cell_type": "code",
   "execution_count": 22,
   "metadata": {},
   "outputs": [
    {
     "name": "stdout",
     "output_type": "stream",
     "text": [
      "sahi does not exit\n"
     ]
    }
   ],
   "source": [
    "def searchContacts(name):\n",
    "    if name in contacts:\n",
    "        print(name)\n",
    "        print(\"Phone :\", contacts[name][0])\n",
    "        print(\"Email :\", contacts[name][1])\n",
    "    else:\n",
    "        print(\"%s does not exit\" % name)\n",
    "        \n",
    "    return\n",
    "searchContacts(\"sahi\")"
   ]
  },
  {
   "cell_type": "code",
   "execution_count": 9,
   "metadata": {},
   "outputs": [
    {
     "name": "stdout",
     "output_type": "stream",
     "text": [
      "2 contacts added\n"
     ]
    }
   ],
   "source": [
    "def importContacts(newContacts):\n",
    "    contacts.update(newContacts)\n",
    "    print(len(newContacts.keys()), \"contacts added\")\n",
    "    return\n",
    "newContacts = {\"name4\":[97534567822, \"saddef@gma.com\"]}\n",
    "importContacts(newContacts)"
   ]
  },
  {
   "cell_type": "code",
   "execution_count": 15,
   "metadata": {},
   "outputs": [],
   "source": [
    "contacts =[]\n",
    "def add(name,phone,mail):\n",
    "    for n in contacts:\n",
    "        contacts[0]=name\n",
    "        contacts[1]=phone\n",
    "        contacts[2]=mail\n",
    "        print(\"Contact %s added\" % name)\n",
    "        print(\"Contact %s added\" % phone)\n",
    "        print(\"Contact %s added\" % mail)\n",
    "    return\n",
    "add(\"sahi\",\"123456\",\"fgsghjd@ghjk.cv\")\n",
    "    "
   ]
  },
  {
   "cell_type": "code",
   "execution_count": 21,
   "metadata": {},
   "outputs": [
    {
     "ename": "TypeError",
     "evalue": "addCon() missing 3 required positional arguments: 'name', 'phone', and 'email'",
     "output_type": "error",
     "traceback": [
      "\u001b[1;31m---------------------------------------------------------------------------\u001b[0m",
      "\u001b[1;31mTypeError\u001b[0m                                 Traceback (most recent call last)",
      "\u001b[1;32m<ipython-input-21-3d39a4d70bae>\u001b[0m in \u001b[0;36m<module>\u001b[1;34m\u001b[0m\n\u001b[0;32m     16\u001b[0m         \u001b[0mprint\u001b[0m\u001b[1;33m(\u001b[0m\u001b[0mname\u001b[0m\u001b[1;33m,\u001b[0m \u001b[1;34m\"added successfully\"\u001b[0m\u001b[1;33m)\u001b[0m\u001b[1;33m\u001b[0m\u001b[1;33m\u001b[0m\u001b[0m\n\u001b[0;32m     17\u001b[0m     \u001b[1;32mreturn\u001b[0m\u001b[1;33m\u001b[0m\u001b[1;33m\u001b[0m\u001b[0m\n\u001b[1;32m---> 18\u001b[1;33m \u001b[0maddCon\u001b[0m\u001b[1;33m(\u001b[0m\u001b[1;33m)\u001b[0m\u001b[1;33m\u001b[0m\u001b[1;33m\u001b[0m\u001b[0m\n\u001b[0m",
      "\u001b[1;31mTypeError\u001b[0m: addCon() missing 3 required positional arguments: 'name', 'phone', and 'email'"
     ]
    }
   ],
   "source": [
    "contacts ={\"name1\" :[9234567890,\"sahikosdsa12@gmkl.vhj\"]}\n",
    "def addCon(name, phone, email):\n",
    "    if name in contacts:\n",
    "        print(name,\"already exits\")\n",
    "    else:\n",
    "        if not phoneNumberValidator(phone):\n",
    "            print(\"Invalid Phone Number\")\n",
    "            return\n",
    "        if not emailValidator(email):\n",
    "            print(\"Invalid Email address\")\n",
    "            return\n",
    "        newcontact=[]\n",
    "        newcontact.append(phone)\n",
    "        newcontact.append(email)\n",
    "        contacts[name]=newcontact\n",
    "        print(name, \"added successfully\")\n",
    "    return\n",
    "addCon()"
   ]
  },
  {
   "cell_type": "code",
   "execution_count": null,
   "metadata": {},
   "outputs": [],
   "source": []
  },
  {
   "cell_type": "code",
   "execution_count": null,
   "metadata": {},
   "outputs": [],
   "source": []
  },
  {
   "cell_type": "code",
   "execution_count": null,
   "metadata": {},
   "outputs": [],
   "source": []
  },
  {
   "cell_type": "code",
   "execution_count": null,
   "metadata": {},
   "outputs": [],
   "source": []
  }
 ],
 "metadata": {
  "kernelspec": {
   "display_name": "Python 3",
   "language": "python",
   "name": "python3"
  },
  "language_info": {
   "codemirror_mode": {
    "name": "ipython",
    "version": 3
   },
   "file_extension": ".py",
   "mimetype": "text/x-python",
   "name": "python",
   "nbconvert_exporter": "python",
   "pygments_lexer": "ipython3",
   "version": "3.7.3"
  }
 },
 "nbformat": 4,
 "nbformat_minor": 2
}
