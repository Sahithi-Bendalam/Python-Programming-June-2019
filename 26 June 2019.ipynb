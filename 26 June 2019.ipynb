{
 "cells": [
  {
   "cell_type": "code",
   "execution_count": 3,
   "metadata": {},
   "outputs": [
    {
     "data": {
      "text/plain": [
       "7"
      ]
     },
     "execution_count": 3,
     "metadata": {},
     "output_type": "execute_result"
    }
   ],
   "source": [
    "# Function to find the second largest number in a lsit\n",
    "\n",
    "def secondLargest(li):\n",
    "    # Covert the list into a unique list\n",
    "    unique = []\n",
    "    for n in li:\n",
    "        if n not in unique:\n",
    "            unique.append(n)\n",
    "    unique = sorted(unique, reverse=True)\n",
    "    return unique[1]\n",
    "secondLargest([1,2,3,4,5,8,7,1,2])"
   ]
  },
  {
   "cell_type": "code",
   "execution_count": 19,
   "metadata": {},
   "outputs": [
    {
     "name": "stdout",
     "output_type": "stream",
     "text": [
      "[1, 2, 3, 4, 5, 6, 7, 8]\n"
     ]
    },
    {
     "data": {
      "text/plain": [
       "6"
      ]
     },
     "execution_count": 19,
     "metadata": {},
     "output_type": "execute_result"
    }
   ],
   "source": [
    "# Function to find %th least number in a list\n",
    "def fifthLeast(li):\n",
    "    unique = []\n",
    "    for n in li:\n",
    "        if n not in unique:\n",
    "            unique.append(n)\n",
    "            \n",
    "    unique = sorted(unique)\n",
    "    print(unique)\n",
    "    return unique[len(unique)-3]\n",
    "fifthLeast([1,2,2,3,4,5,6,7,8])\n",
    "    "
   ]
  },
  {
   "cell_type": "code",
   "execution_count": 21,
   "metadata": {},
   "outputs": [
    {
     "data": {
      "text/plain": [
       "-1"
      ]
     },
     "execution_count": 21,
     "metadata": {},
     "output_type": "execute_result"
    }
   ],
   "source": [
    "# Function to find Kth smallest\n",
    "def ksmallest(li,k):\n",
    "    unique = []\n",
    "    for n in li:\n",
    "        if n not in unique:\n",
    "            unique.append(n)\n",
    "            \n",
    "    unique = sorted(unique)\n",
    "    if len(unique) >= k:\n",
    "        return unique[k-1]\n",
    "    return -1\n",
    "ksmallest([],1)"
   ]
  },
  {
   "cell_type": "code",
   "execution_count": 35,
   "metadata": {},
   "outputs": [
    {
     "data": {
      "text/plain": [
       "1"
      ]
     },
     "execution_count": 35,
     "metadata": {},
     "output_type": "execute_result"
    }
   ],
   "source": [
    "# Function to identify the element with highest frequency\n",
    "# If any element have the highest frequency, return the least frequency element\n",
    "# Highest frequency([1,2,3,9,8,7,3,4,2,1])\n",
    "\n",
    "def highestFrequency(li):\n",
    "    # Extratcing unique elements with frequences\n",
    "    unique = {}\n",
    "    for n in li:\n",
    "        if n in unique:\n",
    "            unique[n] += 1\n",
    "        else:\n",
    "            unique[n] = 1\n",
    "    # unique ={1:2, 2:2, 3:2, 9:1, 8:1, 7:1, 4:1}\n",
    "    # Getting all frequencies into a list\n",
    "    maxfreq=max(unique.values())\n",
    "    # Extract all keys with maxfreq in a list\n",
    "    maxfreqkeys=[]\n",
    "    # Identify the smallest number with maximum frequency\n",
    "    for item in unique.items():\n",
    "        if item[1] == maxfreq:\n",
    "            maxfreqkeys.append(item[0])\n",
    "    #maxfreqE = sorted(maxfreqE)\n",
    "    return min(maxfreqkeys)\n",
    "highestFrequency([1,2,3,9,8,7,3,4,2,1])\n"
   ]
  },
  {
   "cell_type": "code",
   "execution_count": 79,
   "metadata": {},
   "outputs": [
    {
     "data": {
      "text/plain": [
       "1"
      ]
     },
     "execution_count": 79,
     "metadata": {},
     "output_type": "execute_result"
    }
   ],
   "source": [
    "# Function to identify second highest frequency element:\n",
    "# If there are many elements,return the least element\n",
    "#[1,2,3,2,1,1,4,4,9] -> 3\n",
    "\n",
    "def Frequ(li):\n",
    "    unique={}\n",
    "    for n in li:\n",
    "        if n in unique:\n",
    "            unique[n] += 1\n",
    "        else:\n",
    "            unique[n]=1\n",
    "    mf = unique.values()\n",
    "    a = []\n",
    "    for item in mf:\n",
    "        if item not in a:\n",
    "            a.append(item)\n",
    "    a=sorted(a)\n",
    "    mk=[]\n",
    "    mf = a[1]  \n",
    "    \n",
    "    for item in unique.items():\n",
    "        if item[1]==mf:\n",
    "            mk.append(item[0])\n",
    "    return min(mk)\n",
    "Frequ([1,2,3,2,1,4,4,4,9])\n",
    "        \n",
    "        \n"
   ]
  },
  {
   "cell_type": "code",
   "execution_count": 81,
   "metadata": {},
   "outputs": [
    {
     "name": "stdout",
     "output_type": "stream",
     "text": [
      "[4, 3, 2, 1]\n",
      "1 3\n"
     ]
    },
    {
     "data": {
      "text/plain": [
       "1"
      ]
     },
     "execution_count": 81,
     "metadata": {},
     "output_type": "execute_result"
    }
   ],
   "source": [
    "# Kth largest frequency element\n",
    "def Frequ(li,k):\n",
    "    unique={}\n",
    "    for n in li:\n",
    "        if n in unique:\n",
    "            unique[n] += 1\n",
    "        else:\n",
    "            unique[n]=1\n",
    "    mf = unique.values()\n",
    "    a = []\n",
    "    for item in mf:\n",
    "        if item not in a:\n",
    "            a.append(item)\n",
    "    a=sorted(a,reverse=True)\n",
    "    print(a)\n",
    "    mk=[]\n",
    "    mf = a[k-1]  \n",
    "    \n",
    "    for item in unique.items():\n",
    "        if item[1]==mf:\n",
    "            mk.append(item[0])\n",
    "    print(max(mk),mf)\n",
    "    return max(mk)\n",
    "Frequ([1,2,3,2,1,1,4,4,4,4,9],2)"
   ]
  },
  {
   "cell_type": "code",
   "execution_count": null,
   "metadata": {},
   "outputs": [],
   "source": []
  },
  {
   "cell_type": "code",
   "execution_count": null,
   "metadata": {},
   "outputs": [],
   "source": []
  }
 ],
 "metadata": {
  "kernelspec": {
   "display_name": "Python 3",
   "language": "python",
   "name": "python3"
  },
  "language_info": {
   "codemirror_mode": {
    "name": "ipython",
    "version": 3
   },
   "file_extension": ".py",
   "mimetype": "text/x-python",
   "name": "python",
   "nbconvert_exporter": "python",
   "pygments_lexer": "ipython3",
   "version": "3.7.3"
  }
 },
 "nbformat": 4,
 "nbformat_minor": 2
}
