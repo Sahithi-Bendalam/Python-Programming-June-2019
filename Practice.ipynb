{
 "cells": [
  {
   "cell_type": "code",
   "execution_count": 1,
   "metadata": {},
   "outputs": [
    {
     "name": "stdout",
     "output_type": "stream",
     "text": [
      "4\n",
      "*   *\n",
      "*   *\n",
      "*****\n",
      "*   *\n",
      "*   *\n",
      "*****\n",
      "*   *\n",
      "*   *\n",
      "*****\n",
      "*   *\n",
      "*   *\n",
      "*****\n"
     ]
    }
   ],
   "source": [
    "n=int(input())\n",
    "for i in range(n):\n",
    "    print(\"*   *\")\n",
    "    print(\"*   *\")\n",
    "    print(\"*****\")"
   ]
  },
  {
   "cell_type": "code",
   "execution_count": 23,
   "metadata": {},
   "outputs": [
    {
     "name": "stdout",
     "output_type": "stream",
     "text": [
      "1\n",
      "SAHI\n",
      "83\n",
      "83\n",
      "65\n",
      "83\n",
      "65\n",
      "83\n",
      "65\n"
     ]
    }
   ],
   "source": [
    "n=int(input())\n",
    "for i in range(0,n):\n",
    "    def mag(word):\n",
    "        s=input()\n",
    "        l=[]\n",
    "        for i in s:\n",
    "            l.append(ord(i))\n",
    "            for i in l:\n",
    "                n=\n",
    "                a=[]\n",
    "                if i%n!=0:\n",
    "                    n+=1\n",
    "                    print(i)\n",
    "                    a.append(i)\n",
    "                else:\n",
    "                    break\n",
    "            #print(a)\n",
    "                    \n",
    "                    \n",
    "                \n",
    "        return     \n",
    "mag(\"SAHI\")"
   ]
  },
  {
   "cell_type": "code",
   "execution_count": 13,
   "metadata": {},
   "outputs": [
    {
     "name": "stdout",
     "output_type": "stream",
     "text": [
      "65\n"
     ]
    }
   ],
   "source": [
    "print(ord('A'))"
   ]
  },
  {
   "cell_type": "code",
   "execution_count": 8,
   "metadata": {},
   "outputs": [
    {
     "name": "stdout",
     "output_type": "stream",
     "text": [
      "1\n",
      "3\n",
      "B\n"
     ]
    }
   ],
   "source": [
    "lifta=0\n",
    "liftb=7\n",
    "n=int(input())\n",
    "for i in range(n):\n",
    "    t=int(input())\n",
    "    for i in range(0,7):\n",
    "        if t<=3:\n",
    "            lifta+=t\n",
    "                \n",
    "        elif t>=4:\n",
    "            liftb+=t\n",
    "            \n",
    "    print(\"B\")"
   ]
  },
  {
   "cell_type": "code",
   "execution_count": 10,
   "metadata": {},
   "outputs": [
    {
     "name": "stdout",
     "output_type": "stream",
     "text": [
      "enter25\n",
      "5.0\n"
     ]
    }
   ],
   "source": [
    "a=int(input(\"enter\"))\n",
    "c=a**0.5\n",
    "print(c)"
   ]
  },
  {
   "cell_type": "code",
   "execution_count": 14,
   "metadata": {},
   "outputs": [
    {
     "name": "stdout",
     "output_type": "stream",
     "text": [
      "2\n",
      "3.142857142857143\n",
      "12.571428571428571\n"
     ]
    }
   ],
   "source": [
    "r=int(input())\n",
    "pi=22/7\n",
    "print(pi)\n",
    "a=pi*r*r\n",
    "print(a)"
   ]
  },
  {
   "cell_type": "code",
   "execution_count": null,
   "metadata": {},
   "outputs": [],
   "source": []
  }
 ],
 "metadata": {
  "kernelspec": {
   "display_name": "Python 3",
   "language": "python",
   "name": "python3"
  },
  "language_info": {
   "codemirror_mode": {
    "name": "ipython",
    "version": 3
   },
   "file_extension": ".py",
   "mimetype": "text/x-python",
   "name": "python",
   "nbconvert_exporter": "python",
   "pygments_lexer": "ipython3",
   "version": "3.7.3"
  }
 },
 "nbformat": 4,
 "nbformat_minor": 2
}
