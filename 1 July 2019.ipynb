{
 "cells": [
  {
   "cell_type": "markdown",
   "metadata": {},
   "source": [
    "### Day Objectives\n",
    "- Practice on Income Dataset\n",
    "- Define functions for the following data points\n",
    "    - Average Income of all states from 2005 to 2013\n",
    "    - State with highest average income in the last three years\n",
    "    - State with lowest average income from 2007 to 2010(inclusive)\n",
    "    - Print the list of all states in the same line with average income less than California\n",
    "    - Print the names of states based on descending order of income in the year 2009\n",
    "    - State with the lowest recorded income from 2005 to 2013\n"
   ]
  },
  {
   "cell_type": "code",
   "execution_count": 65,
   "metadata": {},
   "outputs": [
    {
     "data": {
      "text/html": [
       "<div>\n",
       "<style scoped>\n",
       "    .dataframe tbody tr th:only-of-type {\n",
       "        vertical-align: middle;\n",
       "    }\n",
       "\n",
       "    .dataframe tbody tr th {\n",
       "        vertical-align: top;\n",
       "    }\n",
       "\n",
       "    .dataframe thead th {\n",
       "        text-align: right;\n",
       "    }\n",
       "</style>\n",
       "<table border=\"1\" class=\"dataframe\">\n",
       "  <thead>\n",
       "    <tr style=\"text-align: right;\">\n",
       "      <th></th>\n",
       "      <th>GEOID</th>\n",
       "      <th>State</th>\n",
       "      <th>2005</th>\n",
       "      <th>2006</th>\n",
       "      <th>2007</th>\n",
       "      <th>2008</th>\n",
       "      <th>2009</th>\n",
       "      <th>2010</th>\n",
       "      <th>2011</th>\n",
       "      <th>2012</th>\n",
       "      <th>2013</th>\n",
       "    </tr>\n",
       "  </thead>\n",
       "  <tbody>\n",
       "    <tr>\n",
       "      <th>0</th>\n",
       "      <td>04000US01</td>\n",
       "      <td>Alabama</td>\n",
       "      <td>37150</td>\n",
       "      <td>37952</td>\n",
       "      <td>42212</td>\n",
       "      <td>44476</td>\n",
       "      <td>39980</td>\n",
       "      <td>40933</td>\n",
       "      <td>42590</td>\n",
       "      <td>43464</td>\n",
       "      <td>41381</td>\n",
       "    </tr>\n",
       "    <tr>\n",
       "      <th>1</th>\n",
       "      <td>04000US02</td>\n",
       "      <td>Alaska</td>\n",
       "      <td>55891</td>\n",
       "      <td>56418</td>\n",
       "      <td>47215</td>\n",
       "      <td>63989</td>\n",
       "      <td>61604</td>\n",
       "      <td>57848</td>\n",
       "      <td>57431</td>\n",
       "      <td>63648</td>\n",
       "      <td>61137</td>\n",
       "    </tr>\n",
       "    <tr>\n",
       "      <th>2</th>\n",
       "      <td>04000US04</td>\n",
       "      <td>Arizona</td>\n",
       "      <td>45245</td>\n",
       "      <td>46657</td>\n",
       "      <td>62993</td>\n",
       "      <td>46914</td>\n",
       "      <td>45739</td>\n",
       "      <td>46896</td>\n",
       "      <td>48621</td>\n",
       "      <td>47044</td>\n",
       "      <td>50602</td>\n",
       "    </tr>\n",
       "    <tr>\n",
       "      <th>3</th>\n",
       "      <td>04000US05</td>\n",
       "      <td>Arkansas</td>\n",
       "      <td>36658</td>\n",
       "      <td>37057</td>\n",
       "      <td>40795</td>\n",
       "      <td>39586</td>\n",
       "      <td>36538</td>\n",
       "      <td>38587</td>\n",
       "      <td>41302</td>\n",
       "      <td>39018</td>\n",
       "      <td>39919</td>\n",
       "    </tr>\n",
       "    <tr>\n",
       "      <th>4</th>\n",
       "      <td>04000US06</td>\n",
       "      <td>California</td>\n",
       "      <td>51755</td>\n",
       "      <td>55319</td>\n",
       "      <td>55734</td>\n",
       "      <td>57014</td>\n",
       "      <td>56134</td>\n",
       "      <td>54283</td>\n",
       "      <td>53367</td>\n",
       "      <td>57020</td>\n",
       "      <td>57528</td>\n",
       "    </tr>\n",
       "  </tbody>\n",
       "</table>\n",
       "</div>"
      ],
      "text/plain": [
       "       GEOID       State   2005   2006   2007   2008   2009   2010   2011  \\\n",
       "0  04000US01     Alabama  37150  37952  42212  44476  39980  40933  42590   \n",
       "1  04000US02      Alaska  55891  56418  47215  63989  61604  57848  57431   \n",
       "2  04000US04     Arizona  45245  46657  62993  46914  45739  46896  48621   \n",
       "3  04000US05    Arkansas  36658  37057  40795  39586  36538  38587  41302   \n",
       "4  04000US06  California  51755  55319  55734  57014  56134  54283  53367   \n",
       "\n",
       "    2012   2013  \n",
       "0  43464  41381  \n",
       "1  63648  61137  \n",
       "2  47044  50602  \n",
       "3  39018  39919  \n",
       "4  57020  57528  "
      ]
     },
     "execution_count": 65,
     "metadata": {},
     "output_type": "execute_result"
    }
   ],
   "source": [
    "    # Function to read csv data\n",
    "    filepath = 'DataFiles/income.csv'\n",
    "    import pandas as pd\n",
    "    def readCSVdata(filepath):\n",
    "        return pd.read_csv(filepath)\n",
    "    readCSVdata(filepath)"
   ]
  },
  {
   "cell_type": "code",
   "execution_count": 66,
   "metadata": {},
   "outputs": [
    {
     "name": "stdout",
     "output_type": "stream",
     "text": [
      "Alabama 41126\n",
      "Alaska 58353\n",
      "Arizona 48967\n",
      "Arkansas 38828\n",
      "California 55350\n"
     ]
    }
   ],
   "source": [
    "# Average Income of all states from 2005 to 2013\n",
    "incomedf = readCSVdata(filepath)\n",
    "def AvgIncomes(df):\n",
    "    for i in range(len(df.values[0::])):\n",
    "        columns = df.values[i][2:]\n",
    "        s=0\n",
    "        c=0\n",
    "        for column in columns:\n",
    "            s+=column\n",
    "            c+=1\n",
    "        #print(s)\n",
    "        print(df.values[i][1],s//c)\n",
    "    return\n",
    "\n",
    "AvgIncomes(incomedf)\n",
    "        "
   ]
  },
  {
   "cell_type": "code",
   "execution_count": 69,
   "metadata": {},
   "outputs": [
    {
     "name": "stdout",
     "output_type": "stream",
     "text": [
      "Alaska 60738\n"
     ]
    }
   ],
   "source": [
    "## State with highest average income in the last three years\n",
    "def HigAvgIncomes(df):\n",
    "    l=[]\n",
    "    d={}\n",
    "    for i in range(len(df.values[0::])):\n",
    "        columns = df.values[i][-3::]\n",
    "        s=0\n",
    "       \n",
    "        c=0\n",
    "        for column in columns:\n",
    "            s+=column\n",
    "            c+=1\n",
    "        #print(s)\n",
    "        #print(df.values[i][1],s//c)\n",
    "        l.append(s//c)\n",
    "        d[df.values[i][1]]=l[i]\n",
    "    #print(d.items())\n",
    "    for i in d.items():\n",
    "        if i[1] == max(l):\n",
    "            print(i[0],max(l))\n",
    "        \n",
    "    #print(max(l))\n",
    "    return\n",
    "\n",
    "HigAvgIncomes(incomedf)\n",
    "        "
   ]
  },
  {
   "cell_type": "code",
   "execution_count": 68,
   "metadata": {},
   "outputs": [
    {
     "name": "stdout",
     "output_type": "stream",
     "text": [
      "Arkansas 38876\n"
     ]
    }
   ],
   "source": [
    "# State with lowest average income from 2007 to 2010(inclusive)\n",
    "def LowAvgIncomes(df):\n",
    "    l=[]\n",
    "    d={}\n",
    "    for i in range(len(df.values[0::])):\n",
    "        columns = df.values[i][4:8]\n",
    "        s=0\n",
    "        c=0\n",
    "        for column in columns:\n",
    "            s+=column\n",
    "            c+=1\n",
    "        #print(s)\n",
    "        #print(df.values[i][1],s//c)\n",
    "        l.append(s//c)\n",
    "        d[df.values[i][1]]=l[i]\n",
    "    #print(d.items())\n",
    "    for i in d.items():\n",
    "        if i[1] == min(l):\n",
    "            print(i[0],min(l))\n",
    "        \n",
    "    #print(max(l))\n",
    "    return\n",
    "\n",
    "LowAvgIncomes(incomedf)\n",
    "        "
   ]
  },
  {
   "cell_type": "code",
   "execution_count": null,
   "metadata": {},
   "outputs": [],
   "source": []
  },
  {
   "cell_type": "code",
   "execution_count": 63,
   "metadata": {},
   "outputs": [
    {
     "name": "stdout",
     "output_type": "stream",
     "text": [
      "Arkansas : 36538\n"
     ]
    }
   ],
   "source": [
    "# State with the lowest recorded income from 2005 to 2013\n",
    "\n",
    "def LowIncome(df):\n",
    "    l=[]\n",
    "    d={}\n",
    "    for i in range(len(df.values[0::])):\n",
    "        columns=min((df.values[i][2::]))\n",
    "        l.append(columns)\n",
    "        d[df.values[i][1]]=l[i]\n",
    "        #print(df.values[i][1])\n",
    "        #print(l[i])\n",
    "        \n",
    "    for i in d.items():\n",
    "        if i[1]==min(l):\n",
    "            print(i[0],\":\",i[1])\n",
    "    return\n",
    "LowIncome(incomedf)"
   ]
  },
  {
   "cell_type": "code",
   "execution_count": 70,
   "metadata": {},
   "outputs": [
    {
     "name": "stdout",
     "output_type": "stream",
     "text": [
      "[41126, 48967, 38828]\n"
     ]
    }
   ],
   "source": [
    "# Print the list of all states in the same line with average income less than California\n",
    "\n",
    "#incomedf = readfile(filepath)\n",
    "def AverageLessThanCal(df):\n",
    "    l=[]\n",
    "    d={}\n",
    "    \n",
    "    for i in range(len(df.values[0::])):\n",
    "        columns = df.values[i][2:]\n",
    "        sum1=0\n",
    "        c=0\n",
    "        #print(columns)\n",
    "        for column in columns:\n",
    "            sum1+=column\n",
    "        #print(sum1//len(df.values[0][2::]))\n",
    "        #print(df.values[i][1],(sum1//len(df.values[0][2::])))\n",
    "            a=sum1//len(df.values[0][2::])\n",
    "        l.append(a)\n",
    "    #print(l)\n",
    "        d[df.values[i][1]]=l[i]\n",
    "    #print(d.items())\n",
    "    value=0\n",
    "    k=[]\n",
    "    for i in d.items():\n",
    "        if i[0]==\"California\":\n",
    "            value=i[1]\n",
    "    for i in range(len(l)):\n",
    "        if value>l[i]:\n",
    "            k.append(l[i])\n",
    "    print(k)      \n",
    "       \n",
    "    return \n",
    "\n",
    "AverageLessThanCal(incomedf)"
   ]
  },
  {
   "cell_type": "code",
   "execution_count": 72,
   "metadata": {},
   "outputs": [
    {
     "name": "stdout",
     "output_type": "stream",
     "text": [
      "Alaska 55891\n",
      "California 51755\n",
      "Arizona 45245\n",
      "Alabama 37150\n",
      "Arkansas 36658\n"
     ]
    }
   ],
   "source": [
    "# Print the names of states based on descending order of income in the year 2009\n",
    "\n",
    "def DescendingColumn(df):\n",
    "    l=[]\n",
    "    d={}\n",
    "    for i in range(len(df.values[0::])):\n",
    "        columns=df.values[i][2]\n",
    "        l.append(columns)\n",
    "        d[df.values[i][1]]=l[i]\n",
    "    l=sorted(l,reverse=True)\n",
    "    #print(d.items())\n",
    "    for j in range(len(df.values[0::])):\n",
    "        for i in d.items():\n",
    "            if i[1]==l[j]:\n",
    "                print(i[0],l[j])\n",
    "    return \n",
    "DescendingColumn(incomedf)"
   ]
  },
  {
   "cell_type": "code",
   "execution_count": null,
   "metadata": {},
   "outputs": [],
   "source": []
  },
  {
   "cell_type": "code",
   "execution_count": null,
   "metadata": {},
   "outputs": [],
   "source": []
  },
  {
   "cell_type": "code",
   "execution_count": null,
   "metadata": {},
   "outputs": [],
   "source": []
  },
  {
   "cell_type": "code",
   "execution_count": null,
   "metadata": {},
   "outputs": [],
   "source": []
  },
  {
   "cell_type": "code",
   "execution_count": null,
   "metadata": {},
   "outputs": [],
   "source": []
  },
  {
   "cell_type": "code",
   "execution_count": null,
   "metadata": {},
   "outputs": [],
   "source": []
  },
  {
   "cell_type": "code",
   "execution_count": null,
   "metadata": {},
   "outputs": [],
   "source": []
  }
 ],
 "metadata": {
  "kernelspec": {
   "display_name": "Python 3",
   "language": "python",
   "name": "python3"
  },
  "language_info": {
   "codemirror_mode": {
    "name": "ipython",
    "version": 3
   },
   "file_extension": ".py",
   "mimetype": "text/x-python",
   "name": "python",
   "nbconvert_exporter": "python",
   "pygments_lexer": "ipython3",
   "version": "3.7.3"
  }
 },
 "nbformat": 4,
 "nbformat_minor": 2
}
