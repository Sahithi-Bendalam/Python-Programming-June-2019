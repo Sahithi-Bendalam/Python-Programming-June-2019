{
 "cells": [
  {
   "cell_type": "code",
   "execution_count": null,
   "metadata": {},
   "outputs": [],
   "source": [
    "### Play with Numbers\n",
    "# Read number of array elemnts and number of queries\n",
    "n = input().split()\n",
    "n[0],n[1]=int(n[0]), int(n[1])\n",
    "# Read array elements\n",
    "a = input().split()\n",
    "sum=[] # Initialize cumulative sum array\n",
    "\n",
    "# Cumulative Sum\n",
    "for i in range(0,n[0]):\n",
    "    if i==0:\n",
    "        sum.append(int(a[i]))\n",
    "    else:\n",
    "        sum.append(int(sum[i-1]) + int(a[i]))\n",
    "del a        \n",
    "#Read each query and calculate the average\n",
    "q=[]\n",
    "for k in range(0,n[1]):\n",
    "    inq = input().split()\n",
    "    i=int(inq[0])\n",
    "    j=int(inq[1])\n",
    "    if i>1:\n",
    "        print((sum[j-1] - sum[i-2]) // (j-i+1))\n",
    "    else:\n",
    "        print(sum[j-1] // (j-i+1))"
   ]
  },
  {
   "cell_type": "code",
   "execution_count": 2,
   "metadata": {},
   "outputs": [
    {
     "name": "stdout",
     "output_type": "stream",
     "text": [
      "2\n",
      "3\n",
      "6\n",
      "YES\n",
      "3\n",
      "NO\n",
      "1\n",
      "NO\n"
     ]
    }
   ],
   "source": [
    "###### Problem : Special Number\n",
    "\n",
    "#Function to determine if a number is a special or not\n",
    "def isspecialNumber(n, p):\n",
    "    if numberOfPrimeFactors(n) >= p:\n",
    "        return True\n",
    "    return False     \n",
    "\n",
    "#Function to check if a  number is Prime\n",
    "def isPrime(n):\n",
    "    flag=1\n",
    "    if n==2:\n",
    "        return True\n",
    "    for i in range(2,n//2+1):\n",
    "        if n%i==0:\n",
    "            flag=0\n",
    "            return False\n",
    "    if flag == 1:\n",
    "        return True\n",
    "    return\n",
    "#isPrime(30)\n",
    "\n",
    "\n",
    "#Function to determine number of prime factors for a given number\n",
    "def numberOfPrimeFactors(n):\n",
    "    if isPrime(n):\n",
    "        return 1\n",
    "    count=0\n",
    "    for i in range(2,n//2 + 1):\n",
    "        if isPrime(i) and n%i == 0:\n",
    "            count+=1\n",
    "    return count\n",
    "\n",
    "def solution2():\n",
    "    p=int(input())\n",
    "    t=int(input())\n",
    "    for i in range(0,t):\n",
    "        n=int(input())\n",
    "        if isspecialNumber(n,p):\n",
    "            print(\"YES\")\n",
    "        else:\n",
    "            print(\"NO\")\n",
    "#numberOfPrimeFactors(30)\n",
    "#isspecialNumber(1,2)\n",
    "solution2()"
   ]
  },
  {
   "cell_type": "code",
   "execution_count": 8,
   "metadata": {},
   "outputs": [
    {
     "name": "stdout",
     "output_type": "stream",
     "text": [
      "30\n"
     ]
    }
   ],
   "source": [
    "## Highest Remainder\n",
    "# N\n",
    "# highest = 0\n",
    "# x <  N and N % x == highest\n",
    "def highestRemainder(n):\n",
    "    hr=0\n",
    "    v=n\n",
    "    for i in range(n-1, n//2-1):\n",
    "        r = n % i\n",
    "        if r > hr:\n",
    "            hr=r\n",
    "            v=i\n",
    "    print(v)\n",
    "    return\n",
    "highestRemainder(30)\n",
    "            "
   ]
  },
  {
   "cell_type": "code",
   "execution_count": null,
   "metadata": {},
   "outputs": [],
   "source": []
  },
  {
   "cell_type": "markdown",
   "metadata": {},
   "source": [
    "## Tuples\n",
    "tl=()\n",
    "li=[]\n",
    "\n",
    "#### Difference between lists and tuples\n",
    "- lists are mutable - can be changed / modified\n",
    "    - Used to Access, Modify, Add,Delete Data\n",
    "- Tuples are immutable - can't be changed once initialised\n",
    "    - Used to Access data only\n"
   ]
  },
  {
   "cell_type": "code",
   "execution_count": 14,
   "metadata": {},
   "outputs": [
    {
     "data": {
      "text/plain": [
       "(8, 6, 0)"
      ]
     },
     "execution_count": 14,
     "metadata": {},
     "output_type": "execute_result"
    }
   ],
   "source": [
    "t1 = (1,2,8,6,0)\n",
    "\n",
    "t1[3] # Accessing the fourth element\n",
    "\n",
    "t1[len(t1)//2:]# Accessing all elements from middle to last\n"
   ]
  },
  {
   "cell_type": "code",
   "execution_count": 15,
   "metadata": {},
   "outputs": [
    {
     "data": {
      "text/plain": [
       "tuple"
      ]
     },
     "execution_count": 15,
     "metadata": {},
     "output_type": "execute_result"
    }
   ],
   "source": [
    "type(t1)"
   ]
  },
  {
   "cell_type": "markdown",
   "metadata": {},
   "source": [
    "## Dictionaries\n",
    "\n",
    "- It works on the concept of Set\n",
    "- Unique Data(no duplication of data)\n",
    "- Keys, Values\n",
    "- Key is the unique identifier for a value\n",
    "- Value is data that can be accessed with a key"
   ]
  },
  {
   "cell_type": "code",
   "execution_count": 27,
   "metadata": {},
   "outputs": [
    {
     "data": {
      "text/plain": [
       "'value4'"
      ]
     },
     "execution_count": 27,
     "metadata": {},
     "output_type": "execute_result"
    }
   ],
   "source": [
    "d1 = {\"k1\":\"value1\", \"k2\":\"value2\"}\n",
    "d1[\"k2\"]     # Accessing the value with key \"k2\"\n",
    "d1.keys()    # returns list of all keys  \n",
    "d1.values()  # returns list of all values  \n",
    "d1.items()   # returns list of tuples of keys amd values\n",
    "d1[\"k3\"] = \"value3\"  # adding an element to the dictionary\n",
    "d1[\"k3\"] = \"value4\"   # Updating an element\n",
    "d1.pop(\"k3\")   #Removing an element"
   ]
  },
  {
   "cell_type": "markdown",
   "metadata": {},
   "source": [
    "### Contacts Application\n",
    "- Add Contact\n",
    "- Search for Contact\n",
    "- List all Contacts\n",
    "- Modify Contact\n",
    "- Remove Contact"
   ]
  },
  {
   "cell_type": "code",
   "execution_count": 44,
   "metadata": {},
   "outputs": [
    {
     "name": "stdout",
     "output_type": "stream",
     "text": [
      "Contact sahithi added\n"
     ]
    }
   ],
   "source": [
    "contacts = {}\n",
    "\n",
    "def addContact(name, phone):\n",
    "    #verify that the contact doesnot already exits\n",
    "    if name not in contacts:\n",
    "        contacts[name]=phone\n",
    "        print(\"Contact %s added\" % name)\n",
    "    else:\n",
    "        print(\"Contacts %s already exits\" % name)\n",
    "    return \n",
    "addContact(\"sahithi\",\"12345234\")"
   ]
  },
  {
   "cell_type": "code",
   "execution_count": 48,
   "metadata": {},
   "outputs": [
    {
     "data": {
      "text/plain": [
       "{'sahithi': '12345234', 'sahi': '12345677777890', 'ssss': '000000000'}"
      ]
     },
     "execution_count": 48,
     "metadata": {},
     "output_type": "execute_result"
    }
   ],
   "source": [
    "contacts[\"sahi\"]=\"12345677777890\"\n",
    "contacts[\"ssss\"]=\"000000000\"\n",
    "contacts"
   ]
  },
  {
   "cell_type": "code",
   "execution_count": 43,
   "metadata": {},
   "outputs": [
    {
     "name": "stdout",
     "output_type": "stream",
     "text": [
      "sahi : 12345\n"
     ]
    }
   ],
   "source": [
    "def searchContacts(name):\n",
    "    if name in contacts:\n",
    "        print(name, \":\", contacts[name])\n",
    "    else:\n",
    "        print(\"%s does not exit\" % name)\n",
    "    return\n",
    "searchContacts(\"sahi\")"
   ]
  },
  {
   "cell_type": "code",
   "execution_count": 62,
   "metadata": {},
   "outputs": [
    {
     "ename": "ValueError",
     "evalue": "too many values to unpack (expected 2)",
     "output_type": "error",
     "traceback": [
      "\u001b[1;31m---------------------------------------------------------------------------\u001b[0m",
      "\u001b[1;31mValueError\u001b[0m                                Traceback (most recent call last)",
      "\u001b[1;32m<ipython-input-62-e36128c8870f>\u001b[0m in \u001b[0;36m<module>\u001b[1;34m\u001b[0m\n\u001b[0;32m      3\u001b[0m         \u001b[0mcontacts\u001b[0m\u001b[1;33m.\u001b[0m\u001b[0mget\u001b[0m\u001b[1;33m(\u001b[0m\u001b[0mname\u001b[0m\u001b[1;33m,\u001b[0m\u001b[0mphone\u001b[0m\u001b[1;33m)\u001b[0m\u001b[1;33m\u001b[0m\u001b[1;33m\u001b[0m\u001b[0m\n\u001b[0;32m      4\u001b[0m     \u001b[1;32mreturn\u001b[0m\u001b[1;33m\u001b[0m\u001b[1;33m\u001b[0m\u001b[0m\n\u001b[1;32m----> 5\u001b[1;33m \u001b[0mlistContacts\u001b[0m\u001b[1;33m(\u001b[0m\u001b[0mcontacts\u001b[0m\u001b[1;33m)\u001b[0m\u001b[1;33m\u001b[0m\u001b[1;33m\u001b[0m\u001b[0m\n\u001b[0m",
      "\u001b[1;32m<ipython-input-62-e36128c8870f>\u001b[0m in \u001b[0;36mlistContacts\u001b[1;34m(contacts)\u001b[0m\n\u001b[0;32m      1\u001b[0m \u001b[1;32mdef\u001b[0m \u001b[0mlistContacts\u001b[0m\u001b[1;33m(\u001b[0m\u001b[0mcontacts\u001b[0m\u001b[1;33m)\u001b[0m\u001b[1;33m:\u001b[0m\u001b[1;33m\u001b[0m\u001b[1;33m\u001b[0m\u001b[0m\n\u001b[1;32m----> 2\u001b[1;33m     \u001b[1;32mfor\u001b[0m \u001b[0mname\u001b[0m\u001b[1;33m,\u001b[0m\u001b[0mphone\u001b[0m \u001b[1;32min\u001b[0m \u001b[0mcontacts\u001b[0m\u001b[1;33m:\u001b[0m\u001b[1;33m\u001b[0m\u001b[1;33m\u001b[0m\u001b[0m\n\u001b[0m\u001b[0;32m      3\u001b[0m         \u001b[0mcontacts\u001b[0m\u001b[1;33m.\u001b[0m\u001b[0mget\u001b[0m\u001b[1;33m(\u001b[0m\u001b[0mname\u001b[0m\u001b[1;33m,\u001b[0m\u001b[0mphone\u001b[0m\u001b[1;33m)\u001b[0m\u001b[1;33m\u001b[0m\u001b[1;33m\u001b[0m\u001b[0m\n\u001b[0;32m      4\u001b[0m     \u001b[1;32mreturn\u001b[0m\u001b[1;33m\u001b[0m\u001b[1;33m\u001b[0m\u001b[0m\n\u001b[0;32m      5\u001b[0m \u001b[0mlistContacts\u001b[0m\u001b[1;33m(\u001b[0m\u001b[0mcontacts\u001b[0m\u001b[1;33m)\u001b[0m\u001b[1;33m\u001b[0m\u001b[1;33m\u001b[0m\u001b[0m\n",
      "\u001b[1;31mValueError\u001b[0m: too many values to unpack (expected 2)"
     ]
    }
   ],
   "source": [
    "def listContacts(contacts):\n",
    "    for name,phone in contacts:\n",
    "        contacts.get(name,phone)\n",
    "    return\n",
    "listContacts(contacts)"
   ]
  },
  {
   "cell_type": "code",
   "execution_count": 59,
   "metadata": {},
   "outputs": [
    {
     "name": "stdout",
     "output_type": "stream",
     "text": [
      "2 contacts added\n"
     ]
    }
   ],
   "source": [
    "def importContacts(newContacts):\n",
    "    contacts.update(newContacts)\n",
    "    print(len(newContacts.keys()), \"contacts added\")\n",
    "    return\n",
    "newContacts = {\"name4\":\"123456\", \"name5\":\"098723456\"}\n",
    "importContacts(newContacts)"
   ]
  },
  {
   "cell_type": "code",
   "execution_count": 66,
   "metadata": {},
   "outputs": [
    {
     "data": {
      "text/plain": [
       "[('sahithi', '12345234'),\n",
       " ('sahi', '12345677777890'),\n",
       " ('ssss', '000000000'),\n",
       " ('name4', '123456'),\n",
       " ('name5', '098723456')]"
      ]
     },
     "execution_count": 66,
     "metadata": {},
     "output_type": "execute_result"
    }
   ],
   "source": [
    "contacts.items()\n",
    "list(contacts.items())"
   ]
  },
  {
   "cell_type": "code",
   "execution_count": 73,
   "metadata": {},
   "outputs": [
    {
     "ename": "KeyError",
     "evalue": "'sahi'",
     "output_type": "error",
     "traceback": [
      "\u001b[1;31m---------------------------------------------------------------------------\u001b[0m",
      "\u001b[1;31mKeyError\u001b[0m                                  Traceback (most recent call last)",
      "\u001b[1;32m<ipython-input-73-1001c406b778>\u001b[0m in \u001b[0;36m<module>\u001b[1;34m\u001b[0m\n\u001b[0;32m      1\u001b[0m \u001b[0mcontacts\u001b[0m\u001b[1;33m.\u001b[0m\u001b[0mupdate\u001b[0m\u001b[1;33m(\u001b[0m\u001b[0mcontacts\u001b[0m\u001b[1;33m)\u001b[0m\u001b[1;33m\u001b[0m\u001b[1;33m\u001b[0m\u001b[0m\n\u001b[1;32m----> 2\u001b[1;33m \u001b[0mcontacts\u001b[0m\u001b[1;33m.\u001b[0m\u001b[0mpop\u001b[0m\u001b[1;33m(\u001b[0m\u001b[1;34m\"sahi\"\u001b[0m\u001b[1;33m)\u001b[0m\u001b[1;33m\u001b[0m\u001b[1;33m\u001b[0m\u001b[0m\n\u001b[0m\u001b[0;32m      3\u001b[0m \u001b[0mcontacts\u001b[0m\u001b[1;33m\u001b[0m\u001b[1;33m\u001b[0m\u001b[0m\n",
      "\u001b[1;31mKeyError\u001b[0m: 'sahi'"
     ]
    }
   ],
   "source": [
    "contacts.update(contacts)\n",
    "contacts.pop(\"sahi\")\n",
    "contacts\n"
   ]
  },
  {
   "cell_type": "markdown",
   "metadata": {},
   "source": []
  },
  {
   "cell_type": "markdown",
   "metadata": {},
   "source": [
    "## Packages and Modules\n",
    "**Package** -> Collection of Modules(Python File.py) and subpackages\n",
    "\n",
    "**SubPackage** -> \n",
    "\n",
    "**Module** -> A single python file containing functions\n",
    "\n",
    "- Package -> Subpackages -> Modules -> Functions\n"
   ]
  },
  {
   "cell_type": "code",
   "execution_count": 75,
   "metadata": {},
   "outputs": [
    {
     "data": {
      "text/plain": [
       "3.141592653589793"
      ]
     },
     "execution_count": 75,
     "metadata": {},
     "output_type": "execute_result"
    }
   ],
   "source": [
    "import math\n",
    "math.floor(123.456)\n",
    "math.pi"
   ]
  },
  {
   "cell_type": "code",
   "execution_count": 76,
   "metadata": {},
   "outputs": [
    {
     "data": {
      "text/plain": [
       "12"
      ]
     },
     "execution_count": 76,
     "metadata": {},
     "output_type": "execute_result"
    }
   ],
   "source": [
    "from math import floor as f1\n",
    "f1(12.34)"
   ]
  },
  {
   "cell_type": "code",
   "execution_count": 84,
   "metadata": {},
   "outputs": [
    {
     "name": "stdout",
     "output_type": "stream",
     "text": [
      "56 24 2 38 73 73 98 1 54 85 "
     ]
    }
   ],
   "source": [
    "# Function to generate N random numbers in a given range\n",
    "import random\n",
    "def generateNRandomNumbers(n,lb,ub):\n",
    "    for i in range(0,n):\n",
    "        print(random.randint(lb,ub), end=\" \")\n",
    "    return\n",
    "generateNRandomNumbers(10,0,100)\n"
   ]
  },
  {
   "cell_type": "code",
   "execution_count": null,
   "metadata": {},
   "outputs": [],
   "source": []
  },
  {
   "cell_type": "code",
   "execution_count": 6,
   "metadata": {},
   "outputs": [
    {
     "data": {
      "text/plain": [
       "3"
      ]
     },
     "execution_count": 6,
     "metadata": {},
     "output_type": "execute_result"
    }
   ],
   "source": [
    "from Packages import numerical\n",
    "numerical.numberOfPrimeFactors(10130)"
   ]
  },
  {
   "cell_type": "code",
   "execution_count": 7,
   "metadata": {},
   "outputs": [
    {
     "data": {
      "text/plain": [
       "True"
      ]
     },
     "execution_count": 7,
     "metadata": {},
     "output_type": "execute_result"
    }
   ],
   "source": [
    "from Packages import numerical\n",
    "numerical.isPrime(103)"
   ]
  },
  {
   "cell_type": "code",
   "execution_count": null,
   "metadata": {},
   "outputs": [],
   "source": []
  }
 ],
 "metadata": {
  "kernelspec": {
   "display_name": "Python 3",
   "language": "python",
   "name": "python3"
  },
  "language_info": {
   "codemirror_mode": {
    "name": "ipython",
    "version": 3
   },
   "file_extension": ".py",
   "mimetype": "text/x-python",
   "name": "python",
   "nbconvert_exporter": "python",
   "pygments_lexer": "ipython3",
   "version": "3.7.3"
  }
 },
 "nbformat": 4,
 "nbformat_minor": 2
}
