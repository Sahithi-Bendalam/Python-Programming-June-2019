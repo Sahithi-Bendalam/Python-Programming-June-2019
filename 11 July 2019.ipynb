{
 "cells": [
  {
   "cell_type": "code",
   "execution_count": 18,
   "metadata": {},
   "outputs": [
    {
     "name": "stdout",
     "output_type": "stream",
     "text": [
      "1 2 -90 -100 70 50\n",
      "[1, 2, -90, -100, 70, 50]\n",
      "67\n"
     ]
    }
   ],
   "source": [
    "## Aditive Inverse\n",
    "n=list(map(int,input().split()))\n",
    "l=[]\n",
    "for i in n:\n",
    "    l.append(i*-1)\n",
    "print(sum(l))\n",
    "       \n",
    "    \n",
    "\n",
    "\n",
    "        "
   ]
  },
  {
   "cell_type": "code",
   "execution_count": 33,
   "metadata": {},
   "outputs": [
    {
     "name": "stdout",
     "output_type": "stream",
     "text": [
      "1234567890987654\n",
      "True\n"
     ]
    }
   ],
   "source": [
    "### Pandigit ->13345679019876543\n",
    "l=[0,1,2,3,4,5,6,7,8,9]\n",
    "s=list(map(str,l))\n",
    "#print(s)\n",
    "n=input()\n",
    "#print(sorted(set(n)))\n",
    "if s==sorted(set(n)):\n",
    "    print(\"True\")\n",
    "else:\n",
    "    print(\"False\")\n",
    "    "
   ]
  },
  {
   "cell_type": "code",
   "execution_count": 43,
   "metadata": {},
   "outputs": [
    {
     "name": "stdout",
     "output_type": "stream",
     "text": [
      "hello how are you @@@@2\n",
      "ifmmp ipx bsf zpv @@@@2"
     ]
    }
   ],
   "source": [
    "### Alpha\n",
    "n=input()\n",
    "for i in n:\n",
    "    if i.isalpha():\n",
    "        print(chr(ord(i)+1),end='')\n",
    "    else:\n",
    "        print(i,end='')\n",
    "    \n"
   ]
  },
  {
   "cell_type": "code",
   "execution_count": null,
   "metadata": {},
   "outputs": [],
   "source": []
  }
 ],
 "metadata": {
  "kernelspec": {
   "display_name": "Python 3",
   "language": "python",
   "name": "python3"
  },
  "language_info": {
   "codemirror_mode": {
    "name": "ipython",
    "version": 3
   },
   "file_extension": ".py",
   "mimetype": "text/x-python",
   "name": "python",
   "nbconvert_exporter": "python",
   "pygments_lexer": "ipython3",
   "version": "3.7.3"
  }
 },
 "nbformat": 4,
 "nbformat_minor": 2
}
